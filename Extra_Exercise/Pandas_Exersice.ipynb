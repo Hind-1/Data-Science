import pandas as pd

dic={'china':1409517397,'India':139180127,'USA':324459463,
     'Indonesia':263991379,'Brazil':20928278,
}
prob1_ser=pd.Series(dic,name="Population")
prob1_ser
