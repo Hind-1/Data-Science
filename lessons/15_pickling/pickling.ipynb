{
 "cells": [
  {
   "cell_type": "code",
   "execution_count": 1,
   "metadata": {},
   "outputs": [
    {
     "name": "stdout",
     "output_type": "stream",
     "text": [
      "Python Version: 3.8.8 (default, Apr 13 2021, 12:59:45) \n",
      "[Clang 10.0.0 ] \n",
      "\n"
     ]
    }
   ],
   "source": [
    "import sys\n",
    "print(\"Python Version:\", sys.version, '\\n')"
   ]
  },
  {
   "cell_type": "markdown",
   "metadata": {},
   "source": [
    "# Pickle: Saving Objects for Later"
   ]
  },
  {
   "cell_type": "markdown",
   "metadata": {},
   "source": [
    "Often in data science, we'll create some model or some version of our data and want to use it later. We have many options - we can save the coefficients, or save the data to csv, or...\n",
    "\n",
    "Actually, we don't have that many options. \n",
    "\n",
    "One way to overcome that is to save the python object to a file as a serialized object. That means we convert the entire object to a bunch of bytes, save those bytes into a file, and then have the ability to unpack those bytes back into their original format later. \n",
    "\n",
    "This is done by a module called `pickle`. Let's see it in action."
   ]
  },
  {
   "cell_type": "markdown",
   "metadata": {},
   "source": [
    "serialized is 0 and 1"
   ]
  },
  {
   "cell_type": "code",
   "execution_count": 2,
   "metadata": {},
   "outputs": [],
   "source": [
    "import pickle\n",
    "import random\n",
    "\n",
    "lots_of_noise = {\n",
    "    'CA': [random.randint(0,65) for _ in range(100)],\n",
    "    'IL': [random.randint(0,65) for _ in range(50)],\n",
    "    'NY': [random.randint(0,65) for _ in range(90)],\n",
    "    'WA': [random.randint(0,65) for _ in range(33)]\n",
    "}"
   ]
  },
  {
   "cell_type": "code",
   "execution_count": 3,
   "metadata": {},
   "outputs": [
    {
     "name": "stdout",
     "output_type": "stream",
     "text": [
      "{'Hind': [2, 4, 3], 'Mai': [91, 62, 81]}\n"
     ]
    }
   ],
   "source": [
    "import pickle \n",
    "import random\n",
    "\n",
    "A={\n",
    "    \"Hind\":[random.randint(1,5) for i in range(3)] ,\n",
    "    \"Mai\" : [random.randint(1,100) for _ in range(3)]\n",
    "    \n",
    "}\n",
    "print(A)"
   ]
  },
  {
   "cell_type": "code",
   "execution_count": 25,
   "metadata": {},
   "outputs": [
    {
     "name": "stdout",
     "output_type": "stream",
     "text": [
      "{'CA': [37, 21, 34, 0, 64, 0, 0, 52, 21, 15, 8, 37, 22, 59, 22, 64, 30, 60, 14, 14, 38, 24, 28, 5, 14, 52, 18, 13, 36, 65, 37, 4, 18, 34, 6, 5, 61, 20, 23, 33, 6, 41, 49, 8, 50, 16, 65, 42, 10, 47, 50, 42, 28, 51, 62, 36, 12, 20, 24, 16, 55, 28, 53, 27, 30, 0, 62, 51, 42, 52, 9, 49, 2, 41, 43, 2, 10, 60, 20, 39, 33, 20, 35, 48, 25, 54, 50, 41, 45, 4, 33, 21, 36, 18, 52, 61, 50, 58, 0, 13], 'IL': [4, 30, 19, 41, 58, 45, 38, 63, 45, 50, 32, 34, 35, 62, 51, 11, 44, 11, 40, 62, 52, 17, 44, 62, 64, 37, 29, 36, 38, 62, 37, 48, 36, 29, 42, 52, 31, 26, 56, 15, 62, 52, 40, 15, 24, 49, 35, 7, 3, 5], 'NY': [14, 17, 38, 16, 26, 64, 49, 13, 8, 44, 59, 10, 27, 36, 42, 53, 32, 9, 54, 57, 59, 45, 23, 34, 34, 9, 64, 27, 52, 14, 64, 11, 50, 58, 63, 45, 2, 60, 42, 54, 47, 19, 64, 45, 2, 1, 50, 43, 14, 44, 47, 57, 29, 13, 13, 15, 64, 18, 3, 63, 63, 17, 53, 0, 48, 20, 29, 41, 6, 32, 2, 56, 8, 6, 58, 0, 42, 16, 6, 29, 52, 57, 52, 56, 10, 48, 12, 20, 55, 43], 'WA': [21, 26, 38, 18, 59, 28, 65, 19, 37, 30, 49, 44, 13, 61, 35, 13, 37, 48, 12, 31, 23, 20, 32, 44, 58, 38, 44, 0, 62, 57, 46, 49, 35]}\n"
     ]
    }
   ],
   "source": [
    "print(lots_of_noise)"
   ]
  },
  {
   "cell_type": "code",
   "execution_count": 29,
   "metadata": {},
   "outputs": [
    {
     "name": "stdout",
     "output_type": "stream",
     "text": [
      "Variable        Type      Data/Info\n",
      "-----------------------------------\n",
      "A               dict      n=2\n",
      "lots_of_noise   dict      n=4\n",
      "pickle          module    <module 'pickle' from '/U<...>lib/python3.8/pickle.py'>\n",
      "random          module    <module 'random' from '/U<...>lib/python3.8/random.py'>\n",
      "sys             module    <module 'sys' (built-in)>\n"
     ]
    }
   ],
   "source": [
    "whos"
   ]
  },
  {
   "cell_type": "code",
   "execution_count": null,
   "metadata": {},
   "outputs": [],
   "source": [
    "whos"
   ]
  },
  {
   "cell_type": "markdown",
   "metadata": {},
   "source": [
    "We can see in this `whos` command that the object `lots_of_noise` exists and is a `dict` with 4 keys. Nice. Now let's look at our file system and verify that there isn't a file called `noise.pickle`."
   ]
  },
  {
   "cell_type": "code",
   "execution_count": 4,
   "metadata": {},
   "outputs": [
    {
     "name": "stdout",
     "output_type": "stream",
     "text": [
      "README.md           my_dataframe.pickle noise.pickle        pickling.ipynb\r\n"
     ]
    }
   ],
   "source": [
    "!ls"
   ]
  },
  {
   "cell_type": "markdown",
   "metadata": {},
   "source": [
    "Okay, now we're ready to create a file and write the bytes to it. To do this with `pickle`, we use python's read-write streamer `open` and create a writable-binary (`wb`) file. We'll then use `pickle.dump` to put an object into that file as a string of bytes."
   ]
  },
  {
   "cell_type": "code",
   "execution_count": 1,
   "metadata": {},
   "outputs": [
    {
     "ename": "NameError",
     "evalue": "name 'pickle' is not defined",
     "output_type": "error",
     "traceback": [
      "\u001b[0;31m---------------------------------------------------------------------------\u001b[0m",
      "\u001b[0;31mNameError\u001b[0m                                 Traceback (most recent call last)",
      "\u001b[0;32m<ipython-input-1-e245e7443865>\u001b[0m in \u001b[0;36m<module>\u001b[0;34m\u001b[0m\n\u001b[1;32m      1\u001b[0m \u001b[0;32mwith\u001b[0m \u001b[0mopen\u001b[0m\u001b[0;34m(\u001b[0m\u001b[0;34m'noise.pickle'\u001b[0m\u001b[0;34m,\u001b[0m \u001b[0;34m'wb'\u001b[0m\u001b[0;34m)\u001b[0m \u001b[0;32mas\u001b[0m \u001b[0mto_write\u001b[0m\u001b[0;34m:\u001b[0m\u001b[0;34m\u001b[0m\u001b[0;34m\u001b[0m\u001b[0m\n\u001b[0;32m----> 2\u001b[0;31m     \u001b[0mpickle\u001b[0m\u001b[0;34m.\u001b[0m\u001b[0mdump\u001b[0m\u001b[0;34m(\u001b[0m\u001b[0mlots_of_noise\u001b[0m\u001b[0;34m,\u001b[0m \u001b[0mto_write\u001b[0m\u001b[0;34m)\u001b[0m\u001b[0;34m\u001b[0m\u001b[0;34m\u001b[0m\u001b[0m\n\u001b[0m",
      "\u001b[0;31mNameError\u001b[0m: name 'pickle' is not defined"
     ]
    }
   ],
   "source": [
    "with open('noise.pickle', 'wb') as to_write:\n",
    "    pickle.dump(lots_of_noise, to_write)"
   ]
  },
  {
   "cell_type": "code",
   "execution_count": 34,
   "metadata": {},
   "outputs": [
    {
     "name": "stdout",
     "output_type": "stream",
     "text": [
      "README.md           my_dataframe.pickle noise.pickle        pickling.ipynb\r\n"
     ]
    }
   ],
   "source": [
    "!ls"
   ]
  },
  {
   "cell_type": "markdown",
   "metadata": {},
   "source": [
    "Now let's delete `lots_of_noise` and prove to ourselves it doesn't exist in Python's memory anymore."
   ]
  },
  {
   "cell_type": "code",
   "execution_count": null,
   "metadata": {},
   "outputs": [],
   "source": [
    "del lots_of_noise"
   ]
  },
  {
   "cell_type": "code",
   "execution_count": 7,
   "metadata": {},
   "outputs": [
    {
     "data": {
      "text/plain": [
       "[9, 2, 4, 6, 5, 2, 1]"
      ]
     },
     "execution_count": 7,
     "metadata": {},
     "output_type": "execute_result"
    }
   ],
   "source": [
    "i=[1,2,5,6,4,2,9]\n",
    "i[::-1]"
   ]
  },
  {
   "cell_type": "code",
   "execution_count": 31,
   "metadata": {},
   "outputs": [
    {
     "name": "stdout",
     "output_type": "stream",
     "text": [
      "{'CA': [37, 21, 34, 0, 64, 0, 0, 52, 21, 15, 8, 37, 22, 59, 22, 64, 30, 60, 14, 14, 38, 24, 28, 5, 14, 52, 18, 13, 36, 65, 37, 4, 18, 34, 6, 5, 61, 20, 23, 33, 6, 41, 49, 8, 50, 16, 65, 42, 10, 47, 50, 42, 28, 51, 62, 36, 12, 20, 24, 16, 55, 28, 53, 27, 30, 0, 62, 51, 42, 52, 9, 49, 2, 41, 43, 2, 10, 60, 20, 39, 33, 20, 35, 48, 25, 54, 50, 41, 45, 4, 33, 21, 36, 18, 52, 61, 50, 58, 0, 13], 'IL': [4, 30, 19, 41, 58, 45, 38, 63, 45, 50, 32, 34, 35, 62, 51, 11, 44, 11, 40, 62, 52, 17, 44, 62, 64, 37, 29, 36, 38, 62, 37, 48, 36, 29, 42, 52, 31, 26, 56, 15, 62, 52, 40, 15, 24, 49, 35, 7, 3, 5], 'NY': [14, 17, 38, 16, 26, 64, 49, 13, 8, 44, 59, 10, 27, 36, 42, 53, 32, 9, 54, 57, 59, 45, 23, 34, 34, 9, 64, 27, 52, 14, 64, 11, 50, 58, 63, 45, 2, 60, 42, 54, 47, 19, 64, 45, 2, 1, 50, 43, 14, 44, 47, 57, 29, 13, 13, 15, 64, 18, 3, 63, 63, 17, 53, 0, 48, 20, 29, 41, 6, 32, 2, 56, 8, 6, 58, 0, 42, 16, 6, 29, 52, 57, 52, 56, 10, 48, 12, 20, 55, 43], 'WA': [21, 26, 38, 18, 59, 28, 65, 19, 37, 30, 49, 44, 13, 61, 35, 13, 37, 48, 12, 31, 23, 20, 32, 44, 58, 38, 44, 0, 62, 57, 46, 49, 35]}\n"
     ]
    }
   ],
   "source": [
    "print(lots_of_noise)"
   ]
  },
  {
   "cell_type": "markdown",
   "metadata": {},
   "source": [
    "Lovely. It's dead forever. Or is it?\n",
    "\n",
    "Let's open that `noise.pickle` file with read-binary (`rb`) mode. Then we'll ask pickle to retrieve the file with `pickle.load` and store it back in a variable."
   ]
  },
  {
   "cell_type": "code",
   "execution_count": 35,
   "metadata": {},
   "outputs": [],
   "source": [
    "with open('noise.pickle','rb') as read_file:\n",
    "    new_noise = pickle.load(read_file)"
   ]
  },
  {
   "cell_type": "code",
   "execution_count": 36,
   "metadata": {},
   "outputs": [
    {
     "name": "stdout",
     "output_type": "stream",
     "text": [
      "{'CA': [37, 21, 34, 0, 64, 0, 0, 52, 21, 15, 8, 37, 22, 59, 22, 64, 30, 60, 14, 14, 38, 24, 28, 5, 14, 52, 18, 13, 36, 65, 37, 4, 18, 34, 6, 5, 61, 20, 23, 33, 6, 41, 49, 8, 50, 16, 65, 42, 10, 47, 50, 42, 28, 51, 62, 36, 12, 20, 24, 16, 55, 28, 53, 27, 30, 0, 62, 51, 42, 52, 9, 49, 2, 41, 43, 2, 10, 60, 20, 39, 33, 20, 35, 48, 25, 54, 50, 41, 45, 4, 33, 21, 36, 18, 52, 61, 50, 58, 0, 13], 'IL': [4, 30, 19, 41, 58, 45, 38, 63, 45, 50, 32, 34, 35, 62, 51, 11, 44, 11, 40, 62, 52, 17, 44, 62, 64, 37, 29, 36, 38, 62, 37, 48, 36, 29, 42, 52, 31, 26, 56, 15, 62, 52, 40, 15, 24, 49, 35, 7, 3, 5], 'NY': [14, 17, 38, 16, 26, 64, 49, 13, 8, 44, 59, 10, 27, 36, 42, 53, 32, 9, 54, 57, 59, 45, 23, 34, 34, 9, 64, 27, 52, 14, 64, 11, 50, 58, 63, 45, 2, 60, 42, 54, 47, 19, 64, 45, 2, 1, 50, 43, 14, 44, 47, 57, 29, 13, 13, 15, 64, 18, 3, 63, 63, 17, 53, 0, 48, 20, 29, 41, 6, 32, 2, 56, 8, 6, 58, 0, 42, 16, 6, 29, 52, 57, 52, 56, 10, 48, 12, 20, 55, 43], 'WA': [21, 26, 38, 18, 59, 28, 65, 19, 37, 30, 49, 44, 13, 61, 35, 13, 37, 48, 12, 31, 23, 20, 32, 44, 58, 38, 44, 0, 62, 57, 46, 49, 35]}\n"
     ]
    }
   ],
   "source": [
    "print(new_noise)"
   ]
  },
  {
   "cell_type": "code",
   "execution_count": 37,
   "metadata": {},
   "outputs": [
    {
     "name": "stdout",
     "output_type": "stream",
     "text": [
      "Variable        Type              Data/Info\n",
      "-------------------------------------------\n",
      "A               dict              n=2\n",
      "lots_of_noise   dict              n=4\n",
      "new_noise       dict              n=4\n",
      "pickle          module            <module 'pickle' from '/U<...>lib/python3.8/pickle.py'>\n",
      "random          module            <module 'random' from '/U<...>lib/python3.8/random.py'>\n",
      "read_file       BufferedReader    <_io.BufferedReader name='noise.pickle'>\n",
      "sys             module            <module 'sys' (built-in)>\n",
      "to_write        BufferedWriter    <_io.BufferedWriter name='noise.pickle'>\n"
     ]
    }
   ],
   "source": [
    "whos"
   ]
  },
  {
   "cell_type": "markdown",
   "metadata": {},
   "source": [
    "Random noise lives! We retrieved the entire structure from file. Nice."
   ]
  },
  {
   "cell_type": "markdown",
   "metadata": {},
   "source": [
    "### Okay, but I don't use dictionaries... I use pandas."
   ]
  },
  {
   "cell_type": "code",
   "execution_count": 59,
   "metadata": {},
   "outputs": [
    {
     "data": {
      "text/html": [
       "<div>\n",
       "<style scoped>\n",
       "    .dataframe tbody tr th:only-of-type {\n",
       "        vertical-align: middle;\n",
       "    }\n",
       "\n",
       "    .dataframe tbody tr th {\n",
       "        vertical-align: top;\n",
       "    }\n",
       "\n",
       "    .dataframe thead th {\n",
       "        text-align: right;\n",
       "    }\n",
       "</style>\n",
       "<table border=\"1\" class=\"dataframe\">\n",
       "  <thead>\n",
       "    <tr style=\"text-align: right;\">\n",
       "      <th></th>\n",
       "      <th>Yay</th>\n",
       "      <th>specific</th>\n",
       "      <th>column</th>\n",
       "      <th>names</th>\n",
       "    </tr>\n",
       "  </thead>\n",
       "  <tbody>\n",
       "    <tr>\n",
       "      <th>0</th>\n",
       "      <td>8.175723</td>\n",
       "      <td>-0.410468</td>\n",
       "      <td>-4.468169</td>\n",
       "      <td>-1.151601</td>\n",
       "    </tr>\n",
       "    <tr>\n",
       "      <th>1</th>\n",
       "      <td>9.765039</td>\n",
       "      <td>-9.352876</td>\n",
       "      <td>8.689955</td>\n",
       "      <td>5.300067</td>\n",
       "    </tr>\n",
       "    <tr>\n",
       "      <th>2</th>\n",
       "      <td>3.052463</td>\n",
       "      <td>-2.417240</td>\n",
       "      <td>-2.545968</td>\n",
       "      <td>-6.023908</td>\n",
       "    </tr>\n",
       "    <tr>\n",
       "      <th>3</th>\n",
       "      <td>-8.880662</td>\n",
       "      <td>-8.964516</td>\n",
       "      <td>7.103495</td>\n",
       "      <td>2.777237</td>\n",
       "    </tr>\n",
       "    <tr>\n",
       "      <th>4</th>\n",
       "      <td>-7.634721</td>\n",
       "      <td>1.977647</td>\n",
       "      <td>8.274863</td>\n",
       "      <td>-9.323737</td>\n",
       "    </tr>\n",
       "  </tbody>\n",
       "</table>\n",
       "</div>"
      ],
      "text/plain": [
       "        Yay  specific    column     names\n",
       "0  8.175723 -0.410468 -4.468169 -1.151601\n",
       "1  9.765039 -9.352876  8.689955  5.300067\n",
       "2  3.052463 -2.417240 -2.545968 -6.023908\n",
       "3 -8.880662 -8.964516  7.103495  2.777237\n",
       "4 -7.634721  1.977647  8.274863 -9.323737"
      ]
     },
     "execution_count": 59,
     "metadata": {},
     "output_type": "execute_result"
    }
   ],
   "source": [
    "import pandas as pd\n",
    "import numpy as np\n",
    "\n",
    "df = pd.DataFrame(np.random.uniform(-10,10, size=(100,4)), columns=['Yay','specific','column','names'])\n",
    "df.head(5)"
   ]
  },
  {
   "cell_type": "code",
   "execution_count": 60,
   "metadata": {},
   "outputs": [],
   "source": [
    "with open('my_dataframe.pickle', 'wb') as to_write:\n",
    "    pickle.dump(df, to_write)"
   ]
  },
  {
   "cell_type": "code",
   "execution_count": 61,
   "metadata": {},
   "outputs": [
    {
     "ename": "SyntaxError",
     "evalue": "unexpected EOF while parsing (<ipython-input-61-336c4bae9017>, line 2)",
     "output_type": "error",
     "traceback": [
      "\u001b[0;36m  File \u001b[0;32m\"<ipython-input-61-336c4bae9017>\"\u001b[0;36m, line \u001b[0;32m2\u001b[0m\n\u001b[0;31m    \u001b[0m\n\u001b[0m    ^\u001b[0m\n\u001b[0;31mSyntaxError\u001b[0m\u001b[0;31m:\u001b[0m unexpected EOF while parsing\n"
     ]
    }
   ],
   "source": [
    "with open(\"my_dataframe.pickle\",\"wb\") as to_write:\n",
    "    "
   ]
  },
  {
   "cell_type": "code",
   "execution_count": 63,
   "metadata": {},
   "outputs": [
    {
     "ename": "NameError",
     "evalue": "name 'df' is not defined",
     "output_type": "error",
     "traceback": [
      "\u001b[0;31m---------------------------------------------------------------------------\u001b[0m",
      "\u001b[0;31mNameError\u001b[0m                                 Traceback (most recent call last)",
      "\u001b[0;32m<ipython-input-63-17a9e9859459>\u001b[0m in \u001b[0;36m<module>\u001b[0;34m\u001b[0m\n\u001b[0;32m----> 1\u001b[0;31m \u001b[0;32mdel\u001b[0m \u001b[0mdf\u001b[0m\u001b[0;34m\u001b[0m\u001b[0;34m\u001b[0m\u001b[0m\n\u001b[0m\u001b[1;32m      2\u001b[0m \u001b[0;34m\u001b[0m\u001b[0m\n\u001b[1;32m      3\u001b[0m \u001b[0mdf\u001b[0m\u001b[0;34m.\u001b[0m\u001b[0mhead\u001b[0m\u001b[0;34m(\u001b[0m\u001b[0;36m100\u001b[0m\u001b[0;34m)\u001b[0m\u001b[0;34m\u001b[0m\u001b[0;34m\u001b[0m\u001b[0m\n",
      "\u001b[0;31mNameError\u001b[0m: name 'df' is not defined"
     ]
    }
   ],
   "source": [
    "del df\n",
    "\n",
    "df.head(100)"
   ]
  },
  {
   "cell_type": "code",
   "execution_count": 64,
   "metadata": {},
   "outputs": [
    {
     "data": {
      "text/html": [
       "<div>\n",
       "<style scoped>\n",
       "    .dataframe tbody tr th:only-of-type {\n",
       "        vertical-align: middle;\n",
       "    }\n",
       "\n",
       "    .dataframe tbody tr th {\n",
       "        vertical-align: top;\n",
       "    }\n",
       "\n",
       "    .dataframe thead th {\n",
       "        text-align: right;\n",
       "    }\n",
       "</style>\n",
       "<table border=\"1\" class=\"dataframe\">\n",
       "  <thead>\n",
       "    <tr style=\"text-align: right;\">\n",
       "      <th></th>\n",
       "      <th>Yay</th>\n",
       "      <th>specific</th>\n",
       "      <th>column</th>\n",
       "      <th>names</th>\n",
       "    </tr>\n",
       "  </thead>\n",
       "  <tbody>\n",
       "    <tr>\n",
       "      <th>0</th>\n",
       "      <td>8.175723</td>\n",
       "      <td>-0.410468</td>\n",
       "      <td>-4.468169</td>\n",
       "      <td>-1.151601</td>\n",
       "    </tr>\n",
       "    <tr>\n",
       "      <th>1</th>\n",
       "      <td>9.765039</td>\n",
       "      <td>-9.352876</td>\n",
       "      <td>8.689955</td>\n",
       "      <td>5.300067</td>\n",
       "    </tr>\n",
       "    <tr>\n",
       "      <th>2</th>\n",
       "      <td>3.052463</td>\n",
       "      <td>-2.417240</td>\n",
       "      <td>-2.545968</td>\n",
       "      <td>-6.023908</td>\n",
       "    </tr>\n",
       "    <tr>\n",
       "      <th>3</th>\n",
       "      <td>-8.880662</td>\n",
       "      <td>-8.964516</td>\n",
       "      <td>7.103495</td>\n",
       "      <td>2.777237</td>\n",
       "    </tr>\n",
       "    <tr>\n",
       "      <th>4</th>\n",
       "      <td>-7.634721</td>\n",
       "      <td>1.977647</td>\n",
       "      <td>8.274863</td>\n",
       "      <td>-9.323737</td>\n",
       "    </tr>\n",
       "    <tr>\n",
       "      <th>...</th>\n",
       "      <td>...</td>\n",
       "      <td>...</td>\n",
       "      <td>...</td>\n",
       "      <td>...</td>\n",
       "    </tr>\n",
       "    <tr>\n",
       "      <th>95</th>\n",
       "      <td>-3.061786</td>\n",
       "      <td>-9.128081</td>\n",
       "      <td>2.593754</td>\n",
       "      <td>-8.585683</td>\n",
       "    </tr>\n",
       "    <tr>\n",
       "      <th>96</th>\n",
       "      <td>8.644562</td>\n",
       "      <td>-4.896050</td>\n",
       "      <td>-0.096412</td>\n",
       "      <td>8.317828</td>\n",
       "    </tr>\n",
       "    <tr>\n",
       "      <th>97</th>\n",
       "      <td>-7.802465</td>\n",
       "      <td>7.832021</td>\n",
       "      <td>9.814599</td>\n",
       "      <td>-1.401132</td>\n",
       "    </tr>\n",
       "    <tr>\n",
       "      <th>98</th>\n",
       "      <td>-5.440929</td>\n",
       "      <td>3.698002</td>\n",
       "      <td>-8.575462</td>\n",
       "      <td>0.477075</td>\n",
       "    </tr>\n",
       "    <tr>\n",
       "      <th>99</th>\n",
       "      <td>0.354963</td>\n",
       "      <td>3.049882</td>\n",
       "      <td>-7.735283</td>\n",
       "      <td>5.426116</td>\n",
       "    </tr>\n",
       "  </tbody>\n",
       "</table>\n",
       "<p>100 rows × 4 columns</p>\n",
       "</div>"
      ],
      "text/plain": [
       "         Yay  specific    column     names\n",
       "0   8.175723 -0.410468 -4.468169 -1.151601\n",
       "1   9.765039 -9.352876  8.689955  5.300067\n",
       "2   3.052463 -2.417240 -2.545968 -6.023908\n",
       "3  -8.880662 -8.964516  7.103495  2.777237\n",
       "4  -7.634721  1.977647  8.274863 -9.323737\n",
       "..       ...       ...       ...       ...\n",
       "95 -3.061786 -9.128081  2.593754 -8.585683\n",
       "96  8.644562 -4.896050 -0.096412  8.317828\n",
       "97 -7.802465  7.832021  9.814599 -1.401132\n",
       "98 -5.440929  3.698002 -8.575462  0.477075\n",
       "99  0.354963  3.049882 -7.735283  5.426116\n",
       "\n",
       "[100 rows x 4 columns]"
      ]
     },
     "execution_count": 64,
     "metadata": {},
     "output_type": "execute_result"
    }
   ],
   "source": [
    "with open('my_dataframe.pickle','rb') as read_file:\n",
    "    new_df = pickle.load(read_file)\n",
    "    \n",
    "new_df.head(100)\n",
    "#show the first five rows."
   ]
  },
  {
   "cell_type": "code",
   "execution_count": 65,
   "metadata": {},
   "outputs": [
    {
     "data": {
      "text/html": [
       "<div>\n",
       "<style scoped>\n",
       "    .dataframe tbody tr th:only-of-type {\n",
       "        vertical-align: middle;\n",
       "    }\n",
       "\n",
       "    .dataframe tbody tr th {\n",
       "        vertical-align: top;\n",
       "    }\n",
       "\n",
       "    .dataframe thead th {\n",
       "        text-align: right;\n",
       "    }\n",
       "</style>\n",
       "<table border=\"1\" class=\"dataframe\">\n",
       "  <thead>\n",
       "    <tr style=\"text-align: right;\">\n",
       "      <th></th>\n",
       "      <th>Yay</th>\n",
       "      <th>specific</th>\n",
       "      <th>column</th>\n",
       "      <th>names</th>\n",
       "    </tr>\n",
       "  </thead>\n",
       "  <tbody>\n",
       "    <tr>\n",
       "      <th>0</th>\n",
       "      <td>8.175723</td>\n",
       "      <td>-0.410468</td>\n",
       "      <td>-4.468169</td>\n",
       "      <td>-1.151601</td>\n",
       "    </tr>\n",
       "    <tr>\n",
       "      <th>1</th>\n",
       "      <td>9.765039</td>\n",
       "      <td>-9.352876</td>\n",
       "      <td>8.689955</td>\n",
       "      <td>5.300067</td>\n",
       "    </tr>\n",
       "    <tr>\n",
       "      <th>2</th>\n",
       "      <td>3.052463</td>\n",
       "      <td>-2.417240</td>\n",
       "      <td>-2.545968</td>\n",
       "      <td>-6.023908</td>\n",
       "    </tr>\n",
       "    <tr>\n",
       "      <th>3</th>\n",
       "      <td>-8.880662</td>\n",
       "      <td>-8.964516</td>\n",
       "      <td>7.103495</td>\n",
       "      <td>2.777237</td>\n",
       "    </tr>\n",
       "    <tr>\n",
       "      <th>4</th>\n",
       "      <td>-7.634721</td>\n",
       "      <td>1.977647</td>\n",
       "      <td>8.274863</td>\n",
       "      <td>-9.323737</td>\n",
       "    </tr>\n",
       "  </tbody>\n",
       "</table>\n",
       "</div>"
      ],
      "text/plain": [
       "        Yay  specific    column     names\n",
       "0  8.175723 -0.410468 -4.468169 -1.151601\n",
       "1  9.765039 -9.352876  8.689955  5.300067\n",
       "2  3.052463 -2.417240 -2.545968 -6.023908\n",
       "3 -8.880662 -8.964516  7.103495  2.777237\n",
       "4 -7.634721  1.977647  8.274863 -9.323737"
      ]
     },
     "execution_count": 65,
     "metadata": {},
     "output_type": "execute_result"
    }
   ],
   "source": [
    "with open ('my_dataframe.pickle','rb') as read_file:\n",
    "    new_df= pickle.load(read_file)\n",
    "new_df.head(5)"
   ]
  },
  {
   "cell_type": "markdown",
   "metadata": {},
   "source": [
    "Pickle is a great tool. One recommended way of using it is to make it an end point of every step in your process. Example:\n",
    "\n",
    "* I got my data! Nice. Pickle it and stop your \"getting the data\" notebook.\n",
    "* Load your data from pickle. Clean it. Save your clean data to a new pickle.\n",
    "* Load your cleaned_data pickle. Do analysis and visualize it.\n",
    "\n",
    "This can provide natural \"pick-up-where-I-left-off-but-before-I-broke-my-data\" points. It's a great way to control the flow of your data.\n",
    "\n",
    "#### Resources\n",
    "\n",
    "https://docs.python.org/3.7/library/pickle.html"
   ]
  },
  {
   "cell_type": "code",
   "execution_count": null,
   "metadata": {},
   "outputs": [],
   "source": []
  },
  {
   "cell_type": "code",
   "execution_count": null,
   "metadata": {},
   "outputs": [],
   "source": []
  }
 ],
 "metadata": {
  "kernelspec": {
   "display_name": "Python 3",
   "language": "python",
   "name": "python3"
  },
  "language_info": {
   "codemirror_mode": {
    "name": "ipython",
    "version": 3
   },
   "file_extension": ".py",
   "mimetype": "text/x-python",
   "name": "python",
   "nbconvert_exporter": "python",
   "pygments_lexer": "ipython3",
   "version": "3.8.8"
  },
  "toc": {
   "base_numbering": 1,
   "nav_menu": {},
   "number_sections": false,
   "sideBar": true,
   "skip_h1_title": false,
   "title_cell": "Table of Contents",
   "title_sidebar": "Contents",
   "toc_cell": false,
   "toc_position": {},
   "toc_section_display": true,
   "toc_window_display": true
  }
 },
 "nbformat": 4,
 "nbformat_minor": 1
}
