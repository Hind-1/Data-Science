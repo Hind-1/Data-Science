{
 "cells": [
  {
   "cell_type": "markdown",
   "metadata": {},
   "source": [
    "# Sets and Tuples\n",
    "\n",
    "In this notebook we will: \n",
    "- Learn how to work with `Sets` and `Tuples`"
   ]
  },
  {
   "cell_type": "markdown",
   "metadata": {},
   "source": [
    "### Sets\n",
    "\n",
    "`Sets` are groups of unique and unordered elements.  `Sets` also use curly brackets `{...}` but they should not be confused with `dictionaries`."
   ]
  },
  {
   "cell_type": "code",
   "execution_count": 2,
   "metadata": {},
   "outputs": [
    {
     "data": {
      "text/plain": [
       "{1, 2}"
      ]
     },
     "execution_count": 2,
     "metadata": {},
     "output_type": "execute_result"
    }
   ],
   "source": [
    "my_list = [1, 1, 1, 2, 2, 2]\n",
    "my_set = set(my_list)\n",
    "my_set"
   ]
  },
  {
   "cell_type": "code",
   "execution_count": 4,
   "metadata": {},
   "outputs": [
    {
     "data": {
      "text/plain": [
       "{'a', 'b'}"
      ]
     },
     "execution_count": 4,
     "metadata": {},
     "output_type": "execute_result"
    }
   ],
   "source": [
    "my_string = 'aaabbb'\n",
    "my_set = set(my_string)\n",
    "my_set"
   ]
  },
  {
   "cell_type": "markdown",
   "metadata": {},
   "source": [
    "### _in_ and _not in_ in a Set\n",
    "\n",
    "These operations work the same as how we use them in `lists` and `strings`."
   ]
  },
  {
   "cell_type": "code",
   "execution_count": 8,
   "metadata": {},
   "outputs": [
    {
     "name": "stdout",
     "output_type": "stream",
     "text": [
      "{1, 2, 3}\n"
     ]
    },
    {
     "data": {
      "text/plain": [
       "False"
      ]
     },
     "execution_count": 8,
     "metadata": {},
     "output_type": "execute_result"
    }
   ],
   "source": [
    "my_set = set([1, 2, 2, 3, 3, 3])\n",
    "print(my_set)\n",
    "2 == my_set"
   ]
  },
  {
   "cell_type": "code",
   "execution_count": 9,
   "metadata": {},
   "outputs": [
    {
     "name": "stdout",
     "output_type": "stream",
     "text": [
      "{1, 2, 3}\n"
     ]
    },
    {
     "data": {
      "text/plain": [
       "False"
      ]
     },
     "execution_count": 9,
     "metadata": {},
     "output_type": "execute_result"
    }
   ],
   "source": [
    "my_set = set([1, 2, 2, 3, 3, 3])\n",
    "print(my_set)\n",
    "6 in my_set"
   ]
  },
  {
   "cell_type": "markdown",
   "metadata": {},
   "source": [
    "__Note__ that we cannot index the set by index or element. "
   ]
  },
  {
   "cell_type": "code",
   "execution_count": 10,
   "metadata": {},
   "outputs": [
    {
     "name": "stdout",
     "output_type": "stream",
     "text": [
      "{'airplane', 'car'}\n"
     ]
    },
    {
     "ename": "TypeError",
     "evalue": "'set' object is not subscriptable",
     "output_type": "error",
     "traceback": [
      "\u001b[0;31m---------------------------------------------------------------------------\u001b[0m",
      "\u001b[0;31mTypeError\u001b[0m                                 Traceback (most recent call last)",
      "\u001b[0;32m<ipython-input-10-d9fdecb4bb5e>\u001b[0m in \u001b[0;36m<module>\u001b[0;34m\u001b[0m\n\u001b[1;32m      1\u001b[0m \u001b[0mmy_set\u001b[0m \u001b[0;34m=\u001b[0m \u001b[0mset\u001b[0m\u001b[0;34m(\u001b[0m\u001b[0;34m[\u001b[0m\u001b[0;34m\"car\"\u001b[0m\u001b[0;34m,\u001b[0m \u001b[0;34m\"car\"\u001b[0m\u001b[0;34m,\u001b[0m \u001b[0;34m\"airplane\"\u001b[0m\u001b[0;34m]\u001b[0m\u001b[0;34m)\u001b[0m\u001b[0;34m\u001b[0m\u001b[0;34m\u001b[0m\u001b[0m\n\u001b[1;32m      2\u001b[0m \u001b[0mprint\u001b[0m\u001b[0;34m(\u001b[0m\u001b[0mmy_set\u001b[0m\u001b[0;34m)\u001b[0m\u001b[0;34m\u001b[0m\u001b[0;34m\u001b[0m\u001b[0m\n\u001b[0;32m----> 3\u001b[0;31m \u001b[0mmy_set\u001b[0m\u001b[0;34m[\u001b[0m\u001b[0;36m0\u001b[0m\u001b[0;34m]\u001b[0m\u001b[0;34m\u001b[0m\u001b[0;34m\u001b[0m\u001b[0m\n\u001b[0m",
      "\u001b[0;31mTypeError\u001b[0m: 'set' object is not subscriptable"
     ]
    }
   ],
   "source": [
    "my_set = set([\"car\", \"car\", \"airplane\"])\n",
    "print(my_set)\n",
    "my_set[0]"
   ]
  },
  {
   "cell_type": "code",
   "execution_count": 11,
   "metadata": {
    "scrolled": true
   },
   "outputs": [
    {
     "name": "stdout",
     "output_type": "stream",
     "text": [
      "{'airplane', 'car'}\n"
     ]
    },
    {
     "ename": "TypeError",
     "evalue": "'set' object is not subscriptable",
     "output_type": "error",
     "traceback": [
      "\u001b[0;31m---------------------------------------------------------------------------\u001b[0m",
      "\u001b[0;31mTypeError\u001b[0m                                 Traceback (most recent call last)",
      "\u001b[0;32m<ipython-input-11-86e5e62d3d97>\u001b[0m in \u001b[0;36m<module>\u001b[0;34m\u001b[0m\n\u001b[1;32m      1\u001b[0m \u001b[0mmy_set\u001b[0m \u001b[0;34m=\u001b[0m \u001b[0mset\u001b[0m\u001b[0;34m(\u001b[0m\u001b[0;34m[\u001b[0m\u001b[0;34m\"car\"\u001b[0m\u001b[0;34m,\u001b[0m \u001b[0;34m\"car\"\u001b[0m\u001b[0;34m,\u001b[0m \u001b[0;34m\"airplane\"\u001b[0m\u001b[0;34m]\u001b[0m\u001b[0;34m)\u001b[0m\u001b[0;34m\u001b[0m\u001b[0;34m\u001b[0m\u001b[0m\n\u001b[1;32m      2\u001b[0m \u001b[0mprint\u001b[0m\u001b[0;34m(\u001b[0m\u001b[0mmy_set\u001b[0m\u001b[0;34m)\u001b[0m\u001b[0;34m\u001b[0m\u001b[0;34m\u001b[0m\u001b[0m\n\u001b[0;32m----> 3\u001b[0;31m \u001b[0mmy_set\u001b[0m\u001b[0;34m[\u001b[0m\u001b[0;34m\"car\"\u001b[0m\u001b[0;34m]\u001b[0m\u001b[0;34m\u001b[0m\u001b[0;34m\u001b[0m\u001b[0m\n\u001b[0m",
      "\u001b[0;31mTypeError\u001b[0m: 'set' object is not subscriptable"
     ]
    }
   ],
   "source": [
    "my_set = set([\"car\", \"car\", \"airplane\"])\n",
    "print(my_set)\n",
    "my_set[\"car\"]"
   ]
  },
  {
   "cell_type": "markdown",
   "metadata": {},
   "source": [
    "We can also iterate through a `set`."
   ]
  },
  {
   "cell_type": "code",
   "execution_count": 12,
   "metadata": {},
   "outputs": [
    {
     "name": "stdout",
     "output_type": "stream",
     "text": [
      "{'airplane', 'car'}\n",
      "airplane\n",
      "car\n"
     ]
    }
   ],
   "source": [
    "my_set = set([\"car\", \"car\", \"airplane\"])\n",
    "print(my_set)\n",
    "\n",
    "for val in my_set:\n",
    "    print(val)"
   ]
  },
  {
   "cell_type": "markdown",
   "metadata": {},
   "source": [
    "### Set Operations"
   ]
  },
  {
   "cell_type": "markdown",
   "metadata": {},
   "source": [
    "If we have two sets (`A` and `B`), we can find the:\n",
    "\n",
    "- `A.union(B)` (things that are in A, in B, or both)\n",
    "- `A.intersection(B)` (things that are in A and B)\n",
    "- `A.difference(B)` (things that are in A but not B)"
   ]
  },
  {
   "cell_type": "code",
   "execution_count": 13,
   "metadata": {},
   "outputs": [],
   "source": [
    "A = set([\"a\",\"b\",\"c\"])\n",
    "B = set([\"c\",\"d\",\"e\"])"
   ]
  },
  {
   "cell_type": "code",
   "execution_count": 14,
   "metadata": {},
   "outputs": [
    {
     "data": {
      "text/plain": [
       "['__and__',\n",
       " '__class__',\n",
       " '__contains__',\n",
       " '__delattr__',\n",
       " '__dir__',\n",
       " '__doc__',\n",
       " '__eq__',\n",
       " '__format__',\n",
       " '__ge__',\n",
       " '__getattribute__',\n",
       " '__gt__',\n",
       " '__hash__',\n",
       " '__iand__',\n",
       " '__init__',\n",
       " '__init_subclass__',\n",
       " '__ior__',\n",
       " '__isub__',\n",
       " '__iter__',\n",
       " '__ixor__',\n",
       " '__le__',\n",
       " '__len__',\n",
       " '__lt__',\n",
       " '__ne__',\n",
       " '__new__',\n",
       " '__or__',\n",
       " '__rand__',\n",
       " '__reduce__',\n",
       " '__reduce_ex__',\n",
       " '__repr__',\n",
       " '__ror__',\n",
       " '__rsub__',\n",
       " '__rxor__',\n",
       " '__setattr__',\n",
       " '__sizeof__',\n",
       " '__str__',\n",
       " '__sub__',\n",
       " '__subclasshook__',\n",
       " '__xor__',\n",
       " 'add',\n",
       " 'clear',\n",
       " 'copy',\n",
       " 'difference',\n",
       " 'difference_update',\n",
       " 'discard',\n",
       " 'intersection',\n",
       " 'intersection_update',\n",
       " 'isdisjoint',\n",
       " 'issubset',\n",
       " 'issuperset',\n",
       " 'pop',\n",
       " 'remove',\n",
       " 'symmetric_difference',\n",
       " 'symmetric_difference_update',\n",
       " 'union',\n",
       " 'update']"
      ]
     },
     "execution_count": 14,
     "metadata": {},
     "output_type": "execute_result"
    }
   ],
   "source": [
    "dir(A)"
   ]
  },
  {
   "cell_type": "code",
   "execution_count": 15,
   "metadata": {},
   "outputs": [
    {
     "data": {
      "text/plain": [
       "{'a', 'b', 'c', 'd', 'e'}"
      ]
     },
     "execution_count": 15,
     "metadata": {},
     "output_type": "execute_result"
    }
   ],
   "source": [
    "A.union(B) # elements in A or B"
   ]
  },
  {
   "cell_type": "code",
   "execution_count": 16,
   "metadata": {},
   "outputs": [
    {
     "data": {
      "text/plain": [
       "{'c'}"
      ]
     },
     "execution_count": 16,
     "metadata": {},
     "output_type": "execute_result"
    }
   ],
   "source": [
    "A.intersection(B) # elements in both A and B"
   ]
  },
  {
   "cell_type": "code",
   "execution_count": 17,
   "metadata": {},
   "outputs": [
    {
     "data": {
      "text/plain": [
       "{'a', 'b'}"
      ]
     },
     "execution_count": 17,
     "metadata": {},
     "output_type": "execute_result"
    }
   ],
   "source": [
    "A.difference(B) # returns elements in A by not in B"
   ]
  },
  {
   "cell_type": "markdown",
   "metadata": {},
   "source": [
    "### Exercise\n",
    "\n",
    "Write a function that determines if a 4 digit code has all values unique.  For example the code '1234' should return `True`, but the code '8281' should return `False`. "
   ]
  },
  {
   "cell_type": "code",
   "execution_count": 27,
   "metadata": {},
   "outputs": [
    {
     "name": "stdout",
     "output_type": "stream",
     "text": [
      " is code 1234 valid?True\n",
      " is code 333 valid?False\n"
     ]
    }
   ],
   "source": [
    "code1 = '1234' # should return True\n",
    "code2 = '333' # should return False\n",
    "def code(text):\n",
    "    return len(set(text))==len(text)\n",
    "\n",
    "print(f\" is code {code1} valid?{code(code1)}\")\n",
    "print(f\" is code {code2} valid?{code(code2)}\")"
   ]
  },
  {
   "cell_type": "code",
   "execution_count": 28,
   "metadata": {
    "scrolled": true
   },
   "outputs": [
    {
     "name": "stdout",
     "output_type": "stream",
     "text": [
      "Is code 1234 valid? True\n",
      "Is code 8281 valid? False\n"
     ]
    }
   ],
   "source": [
    "code1 = '1234' # should return True\n",
    "code2 = '8281' # should return False\n",
    "\n",
    "def is_code_valid(code):\n",
    "    return len(set(code)) == 4\n",
    "\n",
    "print(f\"Is code {code1} valid? {is_code_valid(code1)}\")\n",
    "print(f\"Is code {code2} valid? {is_code_valid(code2)}\")"
   ]
  },
  {
   "cell_type": "markdown",
   "metadata": {},
   "source": [
    "### Exercise:\n",
    "\n",
    "Write a function that receives a string and returns a dictionary that has the count of words as `keys` and the list of the words as the `value`.  \n",
    "\n",
    "For example, the text `This is Super super cool` would return \n",
    "> {1: ['cool', 'is', 'this'], 2: ['super']}\n",
    "\n",
    "__Note__ it must be case insensitive such that `Super` and `super` count as the same word.\n"
   ]
  },
  {
   "cell_type": "code",
   "execution_count": 45,
   "metadata": {},
   "outputs": [],
   "source": [
    "text = \" is is is Super super\"\n",
    "\n",
    "### Write code here"
   ]
  },
  {
   "cell_type": "code",
   "execution_count": 46,
   "metadata": {},
   "outputs": [],
   "source": [
    "### ANSWER\n",
    "text = \" is is is Super super\"\n",
    "def word_counter(text):\n",
    "    # initialize the dictionary\n",
    "    count_2_word = {}\n",
    "    \n",
    "    # handles the case sensitive by making it all lower case\n",
    "    # and then splits the text into a list separated by the space\n",
    "    # notice that we can do chaining\n",
    "    word_list = text.lower().split()\n",
    "    \n",
    "    unique_words = set(word_list)\n",
    "    \n",
    "    for word in unique_words:        \n",
    "        if word_list.count(word) not in count_2_word:\n",
    "            count_2_word[word_list.count(word)] = []\n",
    "        count_2_word[word_list.count(word)].append(word)\n",
    "        \n",
    "    return count_2_word"
   ]
  },
  {
   "cell_type": "code",
   "execution_count": 49,
   "metadata": {},
   "outputs": [],
   "source": [
    "def word_conter(text):\n",
    "    count_2_word={}\n",
    "    word_list=text.lower().spilt()\n",
    "    unique_words = set(word_list)\n",
    "    for word in unique_words:\n",
    "        if word_list.count(word) not in count_2_word:\n",
    "            count_2_word[word_list.count(word)] = []\n",
    "        count_2_word[word_list.count(word)].append(word)\n",
    "        \n",
    "    return count_2_word"
   ]
  },
  {
   "cell_type": "code",
   "execution_count": 51,
   "metadata": {},
   "outputs": [
    {
     "name": "stdout",
     "output_type": "stream",
     "text": [
      "{2: ['super'], 3: ['is']}\n"
     ]
    }
   ],
   "source": [
    "print(word_counter(text))"
   ]
  },
  {
   "cell_type": "code",
   "execution_count": 52,
   "metadata": {},
   "outputs": [
    {
     "data": {
      "text/plain": [
       "{2: ['had',\n",
       "  'its',\n",
       "  'for',\n",
       "  'epoch',\n",
       "  'all',\n",
       "  'age',\n",
       "  'direct',\n",
       "  'times,',\n",
       "  'us,',\n",
       "  'were',\n",
       "  'before',\n",
       "  'season',\n",
       "  'going'],\n",
       " 1: ['way—in',\n",
       "  'being',\n",
       "  'evil,',\n",
       "  'wisdom,',\n",
       "  'despair,',\n",
       "  'insisted',\n",
       "  'authorities',\n",
       "  'in',\n",
       "  'worst',\n",
       "  'short,',\n",
       "  'foolishness,',\n",
       "  'everything',\n",
       "  'winter',\n",
       "  'to',\n",
       "  'present',\n",
       "  'incredulity,',\n",
       "  'that',\n",
       "  'hope,',\n",
       "  'received,',\n",
       "  'belief,',\n",
       "  'degree',\n",
       "  'darkness,',\n",
       "  'spring',\n",
       "  'period,',\n",
       "  'period',\n",
       "  'or',\n",
       "  'noisiest',\n",
       "  'like',\n",
       "  'light,',\n",
       "  'heaven,',\n",
       "  'other',\n",
       "  'nothing',\n",
       "  'good',\n",
       "  'superlative',\n",
       "  'some',\n",
       "  'so',\n",
       "  'best',\n",
       "  'far',\n",
       "  'comparison',\n",
       "  'on',\n",
       "  'only.'],\n",
       " 12: ['of'],\n",
       " 4: ['we'],\n",
       " 14: ['the'],\n",
       " 11: ['was'],\n",
       " 10: ['it']}"
      ]
     },
     "execution_count": 52,
     "metadata": {},
     "output_type": "execute_result"
    }
   ],
   "source": [
    "# In Dicken's day, authors were paid by the word\n",
    "#\n",
    "text = \"\"\"\n",
    "It was the best of times, it was the worst of times, it was the age of wisdom, it was the age of foolishness, \n",
    "it was the epoch of belief, it was the epoch of incredulity, it was the season of Light, it was the season of \n",
    "Darkness, it was the spring of hope, it was the winter of despair, we had everything before us, we had nothing \n",
    "before us, we were all going direct to Heaven, we were all going direct the other way—in short, the period was \n",
    "so far like the present period, that some of its noisiest authorities insisted on its being received, for good \n",
    "or for evil, in the superlative degree of comparison only.\n",
    "\"\"\"\n",
    "\n",
    "res = word_counter(text)\n",
    "res"
   ]
  },
  {
   "cell_type": "markdown",
   "metadata": {},
   "source": [
    "To find out what was the most common word we can do the following:"
   ]
  },
  {
   "cell_type": "code",
   "execution_count": 57,
   "metadata": {},
   "outputs": [
    {
     "data": {
      "text/plain": [
       "['way—in',\n",
       " 'being',\n",
       " 'evil,',\n",
       " 'wisdom,',\n",
       " 'despair,',\n",
       " 'insisted',\n",
       " 'authorities',\n",
       " 'in',\n",
       " 'worst',\n",
       " 'short,',\n",
       " 'foolishness,',\n",
       " 'everything',\n",
       " 'winter',\n",
       " 'to',\n",
       " 'present',\n",
       " 'incredulity,',\n",
       " 'that',\n",
       " 'hope,',\n",
       " 'received,',\n",
       " 'belief,',\n",
       " 'degree',\n",
       " 'darkness,',\n",
       " 'spring',\n",
       " 'period,',\n",
       " 'period',\n",
       " 'or',\n",
       " 'noisiest',\n",
       " 'like',\n",
       " 'light,',\n",
       " 'heaven,',\n",
       " 'other',\n",
       " 'nothing',\n",
       " 'good',\n",
       " 'superlative',\n",
       " 'some',\n",
       " 'so',\n",
       " 'best',\n",
       " 'far',\n",
       " 'comparison',\n",
       " 'on',\n",
       " 'only.']"
      ]
     },
     "execution_count": 57,
     "metadata": {},
     "output_type": "execute_result"
    }
   ],
   "source": [
    "res[min(res.keys())]"
   ]
  },
  {
   "cell_type": "markdown",
   "metadata": {},
   "source": [
    "Or if we want the 3 least common numbers used:"
   ]
  },
  {
   "cell_type": "code",
   "execution_count": 58,
   "metadata": {},
   "outputs": [
    {
     "name": "stdout",
     "output_type": "stream",
     "text": [
      "1 : ['way—in', 'being', 'evil,', 'wisdom,', 'despair,', 'insisted', 'authorities', 'in', 'worst', 'short,', 'foolishness,', 'everything', 'winter', 'to', 'present', 'incredulity,', 'that', 'hope,', 'received,', 'belief,', 'degree', 'darkness,', 'spring', 'period,', 'period', 'or', 'noisiest', 'like', 'light,', 'heaven,', 'other', 'nothing', 'good', 'superlative', 'some', 'so', 'best', 'far', 'comparison', 'on', 'only.']\n",
      "2 : ['had', 'its', 'for', 'epoch', 'all', 'age', 'direct', 'times,', 'us,', 'were', 'before', 'season', 'going']\n",
      "4 : ['we']\n"
     ]
    }
   ],
   "source": [
    "top_keys = sorted(res.keys())[0:3]\n",
    "for key in top_keys:\n",
    "    print(f\"{key} : {res[key]}\")"
   ]
  },
  {
   "cell_type": "markdown",
   "metadata": {},
   "source": [
    "### Tuples\n",
    "\n",
    "We won't spend a lot of time on tuples, because they are _very_ similar to `lists`. \n",
    "- they can hold any data type\n",
    "- they are arbitrary length\n",
    "- they are indexed (0, 1, 2, ..., length_of_tuple - 1)\n",
    "- they use parenthesis `(...)`\n",
    "The biggest difference are that tuples are immutable (cannot be modified)"
   ]
  },
  {
   "cell_type": "code",
   "execution_count": 60,
   "metadata": {},
   "outputs": [],
   "source": [
    "list_of_people = ['Albert Einstein', 'Marie Curie', 'Ada Lovelace'] # square brackets for lists\n",
    "tuple_of_people = ('Albert Einstein', 'Marie Curie', 'Ada Lovelace') # parenthesis for tuples"
   ]
  },
  {
   "cell_type": "code",
   "execution_count": 61,
   "metadata": {},
   "outputs": [
    {
     "data": {
      "text/plain": [
       "['Albert Einstein', 'Marie Curie', 'Ada Lovelace']"
      ]
     },
     "execution_count": 61,
     "metadata": {},
     "output_type": "execute_result"
    }
   ],
   "source": [
    "list_of_people"
   ]
  },
  {
   "cell_type": "code",
   "execution_count": 62,
   "metadata": {},
   "outputs": [
    {
     "data": {
      "text/plain": [
       "('Albert Einstein', 'Marie Curie', 'Ada Lovelace')"
      ]
     },
     "execution_count": 62,
     "metadata": {},
     "output_type": "execute_result"
    }
   ],
   "source": [
    "tuple_of_people"
   ]
  },
  {
   "cell_type": "code",
   "execution_count": 63,
   "metadata": {},
   "outputs": [
    {
     "data": {
      "text/plain": [
       "['Emmy Noether', 'Marie Curie', 'Ada Lovelace']"
      ]
     },
     "execution_count": 63,
     "metadata": {},
     "output_type": "execute_result"
    }
   ],
   "source": [
    "list_of_people[0] = 'Emmy Noether'\n",
    "list_of_people"
   ]
  },
  {
   "cell_type": "code",
   "execution_count": 68,
   "metadata": {
    "scrolled": true
   },
   "outputs": [
    {
     "ename": "TypeError",
     "evalue": "'tuple' object does not support item assignment",
     "output_type": "error",
     "traceback": [
      "\u001b[0;31m---------------------------------------------------------------------------\u001b[0m",
      "\u001b[0;31mTypeError\u001b[0m                                 Traceback (most recent call last)",
      "\u001b[0;32m<ipython-input-68-610754ce6d37>\u001b[0m in \u001b[0;36m<module>\u001b[0;34m\u001b[0m\n\u001b[0;32m----> 1\u001b[0;31m \u001b[0mtuple_of_people\u001b[0m\u001b[0;34m[\u001b[0m\u001b[0;36m0\u001b[0m\u001b[0;34m]\u001b[0m \u001b[0;34m=\u001b[0m \u001b[0;34m'Emmy Noether'\u001b[0m\u001b[0;34m\u001b[0m\u001b[0;34m\u001b[0m\u001b[0m\n\u001b[0m",
      "\u001b[0;31mTypeError\u001b[0m: 'tuple' object does not support item assignment"
     ]
    }
   ],
   "source": [
    "tuple_of_people[0] = 'Emmy Noether'   "
   ]
  },
  {
   "cell_type": "markdown",
   "metadata": {},
   "source": [
    "We can do similar operations as in `lists`"
   ]
  },
  {
   "cell_type": "code",
   "execution_count": 69,
   "metadata": {},
   "outputs": [
    {
     "data": {
      "text/plain": [
       "'Marie Curie'"
      ]
     },
     "execution_count": 69,
     "metadata": {},
     "output_type": "execute_result"
    }
   ],
   "source": [
    "tuple_of_people[1]"
   ]
  },
  {
   "cell_type": "code",
   "execution_count": 70,
   "metadata": {},
   "outputs": [
    {
     "data": {
      "text/plain": [
       "('Marie Curie', 'Ada Lovelace')"
      ]
     },
     "execution_count": 70,
     "metadata": {},
     "output_type": "execute_result"
    }
   ],
   "source": [
    "tuple_of_people[1:]"
   ]
  },
  {
   "cell_type": "code",
   "execution_count": 67,
   "metadata": {},
   "outputs": [
    {
     "data": {
      "text/plain": [
       "3"
      ]
     },
     "execution_count": 67,
     "metadata": {},
     "output_type": "execute_result"
    }
   ],
   "source": [
    "len(tuple_of_people)"
   ]
  },
  {
   "cell_type": "markdown",
   "metadata": {},
   "source": [
    "`Tuples` contains data that you __do not__ wish to modify (i.e. a birthdate), while `lists` will contain data that may be modified (i.e. age)."
   ]
  }
 ],
 "metadata": {
  "kernelspec": {
   "display_name": "Python 3",
   "language": "python",
   "name": "python3"
  },
  "language_info": {
   "codemirror_mode": {
    "name": "ipython",
    "version": 3
   },
   "file_extension": ".py",
   "mimetype": "text/x-python",
   "name": "python",
   "nbconvert_exporter": "python",
   "pygments_lexer": "ipython3",
   "version": "3.8.8"
  },
  "toc": {
   "base_numbering": 1,
   "nav_menu": {},
   "number_sections": false,
   "sideBar": true,
   "skip_h1_title": false,
   "title_cell": "Table of Contents",
   "title_sidebar": "Contents",
   "toc_cell": false,
   "toc_position": {},
   "toc_section_display": true,
   "toc_window_display": true
  }
 },
 "nbformat": 4,
 "nbformat_minor": 2
}
