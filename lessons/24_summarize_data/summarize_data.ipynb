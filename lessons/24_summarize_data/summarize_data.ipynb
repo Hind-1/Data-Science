{
 "cells": [
  {
   "cell_type": "markdown",
   "metadata": {},
   "source": [
    "# Summarize Data "
   ]
  },
  {
   "cell_type": "markdown",
   "metadata": {},
   "source": [
    "__Purpose:__ The purpose of this lecture is to learn how to summarize data\n",
    "\n",
    "__At the end of this lecture you will be able to:__\n",
    "> 1. Summarize data using measures of Central Tendency and Variation "
   ]
  },
  {
   "cell_type": "code",
   "execution_count": 1,
   "metadata": {},
   "outputs": [],
   "source": [
    "import numpy as np\n",
    "import pandas as pd\n",
    "from scipy import stats\n",
    "import seaborn as sns\n",
    "import math \n",
    "import random\n",
    "import matplotlib.pyplot as plt\n",
    "%matplotlib inline"
   ]
  },
  {
   "cell_type": "markdown",
   "metadata": {},
   "source": [
    "### 1.1. Summarizing Data and Distributions:"
   ]
  },
  {
   "cell_type": "markdown",
   "metadata": {},
   "source": [
    "__Overview:__\n",
    "- It is possible to summarize data directly, but we typically create a Probability Distribution for the univariate (single variable) data that we are interested in exploring \n",
    "- Recall the definition of a Probability Distribution (Probability Distributions describes the probabilities of occurrences of possible outcomes) \n",
    "- We can use one of two types of summaries to characterize the data and distributions: \n",
    "> 1. __[Central Tendency](https://en.wikipedia.org/wiki/Central_tendency):__ Central Tendency is the central value of a Probability Distribution and can be measured in many different ways. The most common measures of Central Tendency include the following:\n",
    ">> a. __Arithmetic Mean:__  The Arithmetic Mean refers to the arithmetic average of a group values which is equal to dividing the total sum of all the values by the number of values <br> \n",
    ">> b. __Median:__ The Median refers to the middle value and is found by ordering the data and choosing the value in the middle (or the average of the two middle values if the data has an even number of values) <br>\n",
    ">> c. __Mode:__ The mode refers to the value that occurs most often in the data and is found first by calculating the frequency of each value in the data abd then finding the value that has the highest frequency \n",
    "> 2. __[Variability/Dispersion](https://en.wikipedia.org/wiki/Statistical_dispersion):__ Dispersion refers to the variability or spread of the distribution for each data point to the center of the distribution. The most common measures of Dispersion include the following: \n",
    ">> a. __Variance:__ The Variance is the average of the squared differences of each value and the mean of the data/distribution <br>\n",
    ">> b. __Standard Deviation:__ Standard Deviation is the square root of the Variance \n",
    "\n",
    "__Helpful Points:__ \n",
    "1. Based on the type of data, different measures of Central Tendency are used:\n",
    ">> a. __Nominal Data:__ The Central Tendency in Nominal Data is the Mode <br>\n",
    ">> b. __Ordinal Data:__ The Central Tendency in Ordinal Data is the Median <br>\n",
    ">> c. __Interval Data:__ The Central Tendency in Interval Data is the Mean<br>\n",
    ">> d. __Ratio Data:__ The Central Tendency in Ratio Data is the Geometric Mean \n",
    "\n",
    "__Practice:__ Examples of Summarizing Data in Python "
   ]
  },
  {
   "cell_type": "code",
   "execution_count": 3,
   "metadata": {},
   "outputs": [],
   "source": [
    "# read in data to analyze \n",
    "nba_df = pd.read_csv(\"NBA_GameLog_2010_2017.csv\")\n",
    "tor_2016_2017 = nba_df.loc[(nba_df.loc[:, \"Season\"] == 2017) & (nba_df.loc[:, \"Team\"] == \"TOR\"), ]"
   ]
  },
  {
   "cell_type": "markdown",
   "metadata": {},
   "source": [
    "### Part 1 (Central Tendency):"
   ]
  },
  {
   "cell_type": "markdown",
   "metadata": {},
   "source": [
    "### Example 1.1 (Mean of Data):"
   ]
  },
  {
   "cell_type": "code",
   "execution_count": 5,
   "metadata": {
    "scrolled": true
   },
   "outputs": [
    {
     "data": {
      "text/plain": [
       "Tm.Pts               105.750000\n",
       "Opp.Pts              102.619565\n",
       "Tm.FGM                38.739130\n",
       "Tm.FGA                83.836957\n",
       "Tm.FG_Perc             0.462924\n",
       "Tm.3PM                 8.728261\n",
       "Tm.3PA                24.250000\n",
       "Tm.3P_Perc             0.359913\n",
       "Tm.FTM                19.543478\n",
       "Tm.FTA                24.489130\n",
       "Tm.FT_Perc             0.798717\n",
       "Tm.ORB                10.206522\n",
       "Tm.TRB                42.815217\n",
       "Tm.AST                18.619565\n",
       "Tm.STL                 8.173913\n",
       "Tm.BLK                 4.826087\n",
       "Tm.TOV                11.836957\n",
       "Tm.PF                 20.836957\n",
       "Home.Attendance    18982.934783\n",
       "dtype: float64"
      ]
     },
     "execution_count": 5,
     "metadata": {},
     "output_type": "execute_result"
    }
   ],
   "source": [
    "tor_2016_2017.loc[:, [\"Tm.Pts\", \"Opp.Pts\", 'Tm.FGM', 'Tm.FGA', 'Tm.FG_Perc', 'Tm.3PM', 'Tm.3PA',\n",
    "       'Tm.3P_Perc', 'Tm.FTM', 'Tm.FTA', 'Tm.FT_Perc', 'Tm.ORB', 'Tm.TRB',\n",
    "       'Tm.AST', 'Tm.STL', 'Tm.BLK', 'Tm.TOV', 'Tm.PF', 'Home.Attendance']].mean(axis=0)"
   ]
  },
  {
   "cell_type": "markdown",
   "metadata": {},
   "source": [
    "### Example 1.2 (Median of Data):"
   ]
  },
  {
   "cell_type": "code",
   "execution_count": 6,
   "metadata": {},
   "outputs": [],
   "source": [
    "# remove scientific notation \n",
    "np.set_printoptions(suppress=True)"
   ]
  },
  {
   "cell_type": "code",
   "execution_count": 7,
   "metadata": {},
   "outputs": [
    {
     "data": {
      "text/plain": [
       "array([  105.5   ,   102.5   ,    39.    ,    84.    ,     0.4655,\n",
       "           9.    ,    24.5   ,     0.356 ,    19.    ,    24.    ,\n",
       "           0.806 ,    10.    ,    43.    ,    19.    ,     8.    ,\n",
       "           5.    ,    12.    ,    21.    , 19800.    ])"
      ]
     },
     "execution_count": 7,
     "metadata": {},
     "output_type": "execute_result"
    }
   ],
   "source": [
    "np.median(tor_2016_2017.loc[:, [\"Tm.Pts\", \"Opp.Pts\", 'Tm.FGM', 'Tm.FGA', 'Tm.FG_Perc', 'Tm.3PM', 'Tm.3PA',\n",
    "       'Tm.3P_Perc', 'Tm.FTM', 'Tm.FTA', 'Tm.FT_Perc', 'Tm.ORB', 'Tm.TRB',\n",
    "       'Tm.AST', 'Tm.STL', 'Tm.BLK', 'Tm.TOV', 'Tm.PF', 'Home.Attendance']], axis=0)"
   ]
  },
  {
   "cell_type": "markdown",
   "metadata": {},
   "source": [
    "### Example 1.3 (Mode of Data):"
   ]
  },
  {
   "cell_type": "code",
   "execution_count": 8,
   "metadata": {
    "scrolled": true
   },
   "outputs": [
    {
     "data": {
      "text/plain": [
       "ModeResult(mode=array([[   94.   ,   102.   ,    37.   ,    87.   ,     0.457,    10.   ,\n",
       "           25.   ,     0.25 ,    17.   ,    23.   ,     0.778,     8.   ,\n",
       "           43.   ,    19.   ,     7.   ,     5.   ,    11.   ,    21.   ,\n",
       "        19800.   ]]), count=array([[ 6,  7,  9,  8,  4, 17, 10,  5, 11,  7,  4, 15,  8, 11, 17, 21,\n",
       "        15, 13, 40]]))"
      ]
     },
     "execution_count": 8,
     "metadata": {},
     "output_type": "execute_result"
    }
   ],
   "source": [
    "stats.mode(tor_2016_2017.loc[:, [\"Tm.Pts\", \"Opp.Pts\", 'Tm.FGM', 'Tm.FGA', 'Tm.FG_Perc', 'Tm.3PM', 'Tm.3PA',\n",
    "       'Tm.3P_Perc', 'Tm.FTM', 'Tm.FTA', 'Tm.FT_Perc', 'Tm.ORB', 'Tm.TRB',\n",
    "       'Tm.AST', 'Tm.STL', 'Tm.BLK', 'Tm.TOV', 'Tm.PF', 'Home.Attendance']])"
   ]
  },
  {
   "cell_type": "markdown",
   "metadata": {},
   "source": [
    "### Example 1.4 (Mean of Distribution)"
   ]
  },
  {
   "cell_type": "markdown",
   "metadata": {},
   "source": [
    "First, we need to create a Probability Distribution for the variable \"Team Points\". This can be done manually by finding the relative frequency of each unique value in the variable \"Team Points\". It can also be done programmatically using the `seaborn` Package. "
   ]
  },
  {
   "cell_type": "code",
   "execution_count": 9,
   "metadata": {
    "scrolled": true
   },
   "outputs": [
    {
     "data": {
      "text/plain": [
       "Int64Index([113,  94, 118, 122, 105, 101,  96, 109, 106, 103, 102, 116,  99,\n",
       "            112,  91, 111,  92,  90,  89,  87, 115, 114, 121, 123, 104, 117,\n",
       "            119, 120, 128, 110, 108, 107, 131, 100,  98,  95,  83,  82,  78,\n",
       "             77, 132, 124],\n",
       "           dtype='int64')"
      ]
     },
     "execution_count": 9,
     "metadata": {},
     "output_type": "execute_result"
    }
   ],
   "source": [
    "team_points = tor_2016_2017.loc[:, \"Tm.Pts\"].value_counts().index\n",
    "team_points"
   ]
  },
  {
   "cell_type": "code",
   "execution_count": 10,
   "metadata": {},
   "outputs": [
    {
     "data": {
      "text/plain": [
       "113    0.065217\n",
       "94     0.065217\n",
       "118    0.043478\n",
       "122    0.043478\n",
       "105    0.043478\n",
       "Name: Tm.Pts, dtype: float64"
      ]
     },
     "execution_count": 10,
     "metadata": {},
     "output_type": "execute_result"
    }
   ],
   "source": [
    "team_points_prob = tor_2016_2017.loc[:, \"Tm.Pts\"].value_counts() / tor_2016_2017.loc[:, \"Tm.Pts\"].value_counts().sum()\n",
    "team_points_prob.head(5)"
   ]
  },
  {
   "cell_type": "code",
   "execution_count": 11,
   "metadata": {
    "scrolled": true
   },
   "outputs": [
    {
     "data": {
      "text/plain": [
       "<BarContainer object of 42 artists>"
      ]
     },
     "execution_count": 11,
     "metadata": {},
     "output_type": "execute_result"
    },
    {
     "data": {
      "image/png": "[encoded data removed]",
      "text/plain": [
       "<Figure size 432x288 with 1 Axes>"
      ]
     },
     "metadata": {
      "needs_background": "light"
     },
     "output_type": "display_data"
    }
   ],
   "source": [
    "# manual probability distribution (prob. mass function)\n",
    "plt.bar(team_points, team_points_prob)"
   ]
  },
  {
   "cell_type": "markdown",
   "metadata": {},
   "source": [
    "The bar chart depicts a probablity mass function (PMF). PMF is the probability distribution of a discrete random variable, and provides the possible values and their associated probabilities. \n",
    "\n",
    "So the PMF plotted above is a probability measure that gives us probabilities of the possible values for a discrete random variable, which in our case is team_points.\n",
    "\n",
    "\n",
    "**Formal definition**:\n",
    "Let X be a discrete random variable with range Rx={x1,x2,x3,...} (finite or countably infinite). The function\n",
    "\n",
    "<center>\n",
    "\n",
    "Px(xk)=P(X=xk), for k=1,2,3,...,\n",
    "\n",
    "</center>\n",
    "\n",
    "is called the probability mass function (PMF) of X."
   ]
  },
  {
   "cell_type": "code",
   "execution_count": 12,
   "metadata": {},
   "outputs": [
    {
     "data": {
      "text/plain": [
       "1.0"
      ]
     },
     "execution_count": 12,
     "metadata": {},
     "output_type": "execute_result"
    }
   ],
   "source": [
    "team_points_prob.sum()"
   ]
  },
  {
   "cell_type": "markdown",
   "metadata": {},
   "source": [
    "Note that the sum of the probabilities equals to 1!"
   ]
  },
  {
   "cell_type": "markdown",
   "metadata": {},
   "source": [
    "Density plots are another useful method to study data distributions of one or more numeric variables. \n",
    "\n",
    "Kernel density estimatation plot is a non-parametric method of estimating the probability density function (PDF) of a continuous random variable. It is non-parametric because it does not assume any underlying distribution for the variable. At every data point, a kernel function is created with the data point at its centre – this ensures that the kernel is symmetric about that specific data point.\n",
    "\n",
    "Intuitively, density plots can be thought of a smoothed version of the histogram."
   ]
  },
  {
   "cell_type": "code",
   "execution_count": 16,
   "metadata": {
    "scrolled": true
   },
   "outputs": [
    {
     "name": "stderr",
     "output_type": "stream",
     "text": [
      "/opt/anaconda3/lib/python3.8/site-packages/seaborn/distributions.py:1657: FutureWarning: The `bw` parameter is deprecated in favor of `bw_method` and `bw_adjust`. Using 0.5 for `bw_method`, but please see the docs for the new parameters and update your code.\n",
      "  warnings.warn(msg, FutureWarning)\n"
     ]
    },
    {
     "data": {
      "image/png": "[encoded data removed]",
      "text/plain": [
       "<Figure size 432x288 with 1 Axes>"
      ]
     },
     "metadata": {},
     "output_type": "display_data"
    }
   ],
   "source": [
    "# kernel density plot \n",
    "sns.set_style('whitegrid');\n",
    "sns.kdeplot(tor_2016_2017.loc[:, \"Tm.Pts\"], bw=0.5);"
   ]
  },
  {
   "cell_type": "code",
   "execution_count": 19,
   "metadata": {
    "scrolled": true
   },
   "outputs": [
    {
     "name": "stderr",
     "output_type": "stream",
     "text": [
      "/opt/anaconda3/lib/python3.8/site-packages/seaborn/distributions.py:2557: FutureWarning: `distplot` is a deprecated function and will be removed in a future version. Please adapt your code to use either `displot` (a figure-level function with similar flexibility) or `histplot` (an axes-level function for histograms).\n",
      "  warnings.warn(msg, FutureWarning)\n"
     ]
    },
    {
     "data": {
      "image/png": "[encoded data removed]",
      "text/plain": [
       "<Figure size 432x288 with 1 Axes>"
      ]
     },
     "metadata": {},
     "output_type": "display_data"
    }
   ],
   "source": [
    "sns.distplot(tor_2016_2017.loc[:, \"Tm.Pts\"],kde=True,bins=15);"
   ]
  },
  {
   "cell_type": "markdown",
   "metadata": {},
   "source": [
    "Recall the formula for the Expected Value for a Discrete Random Variable: The sum of the product of the possible values of the Random Variable and the probability of each value occurring. We can use the dot product function for this calculation. See below:"
   ]
  },
  {
   "cell_type": "code",
   "execution_count": null,
   "metadata": {},
   "outputs": [],
   "source": [
    "distr_mean = np.dot(team_points, team_points_prob)\n",
    "distr_mean"
   ]
  },
  {
   "cell_type": "markdown",
   "metadata": {},
   "source": [
    "### Part 2 (Dispersion):"
   ]
  },
  {
   "cell_type": "markdown",
   "metadata": {},
   "source": [
    "### Example 2.1 (Variance of Data):"
   ]
  },
  {
   "cell_type": "markdown",
   "metadata": {},
   "source": [
    "$\\sigma$ = $\\sqrt{\\sigma^2}$"
   ]
  },
  {
   "cell_type": "code",
   "execution_count": null,
   "metadata": {},
   "outputs": [],
   "source": [
    "tor_2016_2017.loc[:, [\"Tm.Pts\", \"Opp.Pts\", 'Tm.FGM', 'Tm.FGA', 'Tm.FG_Perc', 'Tm.3PM', 'Tm.3PA',\n",
    "       'Tm.3P_Perc', 'Tm.FTM', 'Tm.FTA', 'Tm.FT_Perc', 'Tm.ORB', 'Tm.TRB',\n",
    "       'Tm.AST', 'Tm.STL', 'Tm.BLK', 'Tm.TOV', 'Tm.PF', 'Home.Attendance']].var(axis=0)"
   ]
  },
  {
   "cell_type": "markdown",
   "metadata": {},
   "source": [
    "### Example 2.2 (Standard Deviation of Data):"
   ]
  },
  {
   "cell_type": "code",
   "execution_count": null,
   "metadata": {},
   "outputs": [],
   "source": [
    "tor_2016_2017.loc[:, [\"Tm.Pts\", \"Opp.Pts\", 'Tm.FGM', 'Tm.FGA', 'Tm.FG_Perc', 'Tm.3PM', 'Tm.3PA',\n",
    "       'Tm.3P_Perc', 'Tm.FTM', 'Tm.FTA', 'Tm.FT_Perc', 'Tm.ORB', 'Tm.TRB',\n",
    "       'Tm.AST', 'Tm.STL', 'Tm.BLK', 'Tm.TOV', 'Tm.PF', 'Home.Attendance']].std(axis=0)"
   ]
  },
  {
   "cell_type": "markdown",
   "metadata": {},
   "source": [
    "### Example 2.3 (Variance of Distribution):"
   ]
  },
  {
   "cell_type": "code",
   "execution_count": null,
   "metadata": {},
   "outputs": [],
   "source": [
    "distr_var = np.dot((team_points - distr_mean)**2, team_points_prob)\n",
    "distr_var"
   ]
  },
  {
   "cell_type": "markdown",
   "metadata": {},
   "source": [
    "### 1.2. The Standard Score or z-score\n",
    "\n",
    "Is a variable that measures the deviation from the mean in units of the standard deviation.  It is a dimensionless quantity, and is given by:\n",
    "\n",
    "<center>\n",
    "$z=\\frac{X-\\bar{X}}{\\sigma}$\n",
    "</center>\n",
    "\n",
    "where:\n",
    "\n",
    "X is a single raw data value\n",
    "\n",
    "$\\bar X$ is the population mean\n",
    "\n",
    "σ is the population standard deviation"
   ]
  },
  {
   "cell_type": "code",
   "execution_count": 1,
   "metadata": {},
   "outputs": [
    {
     "ename": "NameError",
     "evalue": "name 'np' is not defined",
     "output_type": "error",
     "traceback": [
      "\u001b[0;31m---------------------------------------------------------------------------\u001b[0m",
      "\u001b[0;31mNameError\u001b[0m                                 Traceback (most recent call last)",
      "\u001b[0;32m<ipython-input-1-c9feef34118f>\u001b[0m in \u001b[0;36m<module>\u001b[0;34m\u001b[0m\n\u001b[1;32m      1\u001b[0m \u001b[0;31m# Create an array of values\u001b[0m\u001b[0;34m\u001b[0m\u001b[0;34m\u001b[0m\u001b[0;34m\u001b[0m\u001b[0m\n\u001b[0;32m----> 2\u001b[0;31m \u001b[0mdata\u001b[0m \u001b[0;34m=\u001b[0m \u001b[0mnp\u001b[0m\u001b[0;34m.\u001b[0m\u001b[0marray\u001b[0m\u001b[0;34m(\u001b[0m\u001b[0;34m[\u001b[0m\u001b[0;36m6\u001b[0m\u001b[0;34m,\u001b[0m \u001b[0;36m7\u001b[0m\u001b[0;34m,\u001b[0m \u001b[0;36m7\u001b[0m\u001b[0;34m,\u001b[0m \u001b[0;36m12\u001b[0m\u001b[0;34m,\u001b[0m \u001b[0;36m13\u001b[0m\u001b[0;34m,\u001b[0m \u001b[0;36m13\u001b[0m\u001b[0;34m,\u001b[0m \u001b[0;36m15\u001b[0m\u001b[0;34m,\u001b[0m \u001b[0;36m16\u001b[0m\u001b[0;34m,\u001b[0m \u001b[0;36m19\u001b[0m\u001b[0;34m,\u001b[0m \u001b[0;36m22\u001b[0m\u001b[0;34m]\u001b[0m\u001b[0;34m)\u001b[0m\u001b[0;34m\u001b[0m\u001b[0;34m\u001b[0m\u001b[0m\n\u001b[0m",
      "\u001b[0;31mNameError\u001b[0m: name 'np' is not defined"
     ]
    }
   ],
   "source": [
    "# Create an array of values\n",
    "data = np.array([6, 7, 7, 12, 13, 13, 15, 16, 19, 22])"
   ]
  },
  {
   "cell_type": "code",
   "execution_count": 2,
   "metadata": {},
   "outputs": [
    {
     "ename": "NameError",
     "evalue": "name 'stats' is not defined",
     "output_type": "error",
     "traceback": [
      "\u001b[0;31m---------------------------------------------------------------------------\u001b[0m",
      "\u001b[0;31mNameError\u001b[0m                                 Traceback (most recent call last)",
      "\u001b[0;32m<ipython-input-2-aae34287679d>\u001b[0m in \u001b[0;36m<module>\u001b[0;34m\u001b[0m\n\u001b[1;32m      1\u001b[0m \u001b[0;31m#Use the zscore function on the data\u001b[0m\u001b[0;34m\u001b[0m\u001b[0;34m\u001b[0m\u001b[0;34m\u001b[0m\u001b[0m\n\u001b[0;32m----> 2\u001b[0;31m \u001b[0mstats\u001b[0m\u001b[0;34m.\u001b[0m\u001b[0mzscore\u001b[0m\u001b[0;34m(\u001b[0m\u001b[0mdata\u001b[0m\u001b[0;34m)\u001b[0m\u001b[0;34m\u001b[0m\u001b[0;34m\u001b[0m\u001b[0m\n\u001b[0m",
      "\u001b[0;31mNameError\u001b[0m: name 'stats' is not defined"
     ]
    }
   ],
   "source": [
    "#Use the zscore function on the data\n",
    "stats.zscore(data)"
   ]
  },
  {
   "cell_type": "markdown",
   "metadata": {},
   "source": [
    "Each z-score tells us how many standard deviations away an individual value is from the mean. For example:\n",
    "\n",
    "The first value of “6” in the array is 1.394 standard deviations **below** the mean.\n",
    "\n",
    "The fifth value of “13” in the array is 0 standard deviations away from the mean, i.e. it is **equal** to the mean.\n",
    "\n",
    "The last value of “22” in the array is 1.793 standard deviations **above** the mean."
   ]
  },
  {
   "cell_type": "code",
   "execution_count": null,
   "metadata": {},
   "outputs": [],
   "source": [
    "# Create a dataframe \n",
    "data_frame = pd.DataFrame(np.random.randint(0, 10, size=(5, 3)), columns=['A', 'B', 'C'])\n",
    "data_frame"
   ]
  },
  {
   "cell_type": "code",
   "execution_count": null,
   "metadata": {},
   "outputs": [],
   "source": [
    "#Use the apply function to calculate z-scores for columns, 'A','B' and 'C'\n",
    "data_frame.apply(stats.zscore)"
   ]
  },
  {
   "cell_type": "markdown",
   "metadata": {},
   "source": [
    "Try to observe and note how the z-scores for each individual value are shown relative to the column they’re in."
   ]
  }
 ],
 "metadata": {
  "kernelspec": {
   "display_name": "Python 3",
   "language": "python",
   "name": "python3"
  },
  "language_info": {
   "codemirror_mode": {
    "name": "ipython",
    "version": 3
   },
   "file_extension": ".py",
   "mimetype": "text/x-python",
   "name": "python",
   "nbconvert_exporter": "python",
   "pygments_lexer": "ipython3",
   "version": "3.8.8"
  },
  "toc": {
   "base_numbering": 1,
   "nav_menu": {},
   "number_sections": false,
   "sideBar": true,
   "skip_h1_title": false,
   "title_cell": "Table of Contents",
   "title_sidebar": "Contents",
   "toc_cell": false,
   "toc_position": {},
   "toc_section_display": true,
   "toc_window_display": true
  }
 },
 "nbformat": 4,
 "nbformat_minor": 2
}
