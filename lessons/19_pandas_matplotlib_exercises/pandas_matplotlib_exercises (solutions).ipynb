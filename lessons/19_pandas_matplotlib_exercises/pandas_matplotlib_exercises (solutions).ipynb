{
 "cells": [
  {
   "cell_type": "markdown",
   "metadata": {},
   "source": [
    "#  Challenge : Exploratory Data Analysis w/ Pandas and Matplotlib\n"
   ]
  },
  {
   "cell_type": "markdown",
   "metadata": {},
   "source": [
    "Let's switch gears and work with a real data set from homes being sold in the Seattle area.\n",
    "\n",
    "Let's start by reading and exploring the data."
   ]
  },
  {
   "cell_type": "code",
   "execution_count": 112,
   "metadata": {},
   "outputs": [],
   "source": [
    "import numpy as np\n",
    "import pandas as pd\n",
    "from scipy import stats\n",
    "import seaborn as sns\n",
    "import math \n",
    "import random\n",
    "import matplotlib.pyplot as plt\n",
    "# this sttement allows the visuals to render within your Jupyter Notebook\n",
    "%matplotlib inline "
   ]
  },
  {
   "cell_type": "code",
   "execution_count": 113,
   "metadata": {},
   "outputs": [],
   "source": [
    "data = pd.read_csv('data/SeattleHomePrices.csv')"
   ]
  },
  {
   "cell_type": "markdown",
   "metadata": {},
   "source": [
    "## Problem 1\n",
    "Let's use a subset of the data set that only contains the following columns: PROPERTY TYPE, ZIP, PRICE, BEDS, BATHS, SQUARE FEET, DAYS ON MARKET. Save it in a Pandas Dataframe named small_data."
   ]
  },
  {
   "cell_type": "code",
   "execution_count": 114,
   "metadata": {},
   "outputs": [
    {
     "data": {
      "text/html": [
       "<div>\n",
       "<style scoped>\n",
       "    .dataframe tbody tr th:only-of-type {\n",
       "        vertical-align: middle;\n",
       "    }\n",
       "\n",
       "    .dataframe tbody tr th {\n",
       "        vertical-align: top;\n",
       "    }\n",
       "\n",
       "    .dataframe thead th {\n",
       "        text-align: right;\n",
       "    }\n",
       "</style>\n",
       "<table border=\"1\" class=\"dataframe\">\n",
       "  <thead>\n",
       "    <tr style=\"text-align: right;\">\n",
       "      <th></th>\n",
       "      <th>PROPERTY TYPE</th>\n",
       "      <th>ZIP</th>\n",
       "      <th>PRICE</th>\n",
       "      <th>BEDS</th>\n",
       "      <th>BATHS</th>\n",
       "      <th>SQUARE FEET</th>\n",
       "      <th>DAYS ON MARKET</th>\n",
       "    </tr>\n",
       "  </thead>\n",
       "  <tbody>\n",
       "    <tr>\n",
       "      <th>0</th>\n",
       "      <td>Condo/Co-op</td>\n",
       "      <td>98109</td>\n",
       "      <td>459000</td>\n",
       "      <td>2</td>\n",
       "      <td>1.00</td>\n",
       "      <td>760.0</td>\n",
       "      <td>1</td>\n",
       "    </tr>\n",
       "    <tr>\n",
       "      <th>1</th>\n",
       "      <td>Single Family Residential</td>\n",
       "      <td>98105</td>\n",
       "      <td>648000</td>\n",
       "      <td>3</td>\n",
       "      <td>1.75</td>\n",
       "      <td>1170.0</td>\n",
       "      <td>1</td>\n",
       "    </tr>\n",
       "    <tr>\n",
       "      <th>2</th>\n",
       "      <td>Single Family Residential</td>\n",
       "      <td>98146</td>\n",
       "      <td>440000</td>\n",
       "      <td>3</td>\n",
       "      <td>1.75</td>\n",
       "      <td>1510.0</td>\n",
       "      <td>1</td>\n",
       "    </tr>\n",
       "    <tr>\n",
       "      <th>3</th>\n",
       "      <td>Single Family Residential</td>\n",
       "      <td>98115</td>\n",
       "      <td>715000</td>\n",
       "      <td>3</td>\n",
       "      <td>1.00</td>\n",
       "      <td>1820.0</td>\n",
       "      <td>1</td>\n",
       "    </tr>\n",
       "    <tr>\n",
       "      <th>4</th>\n",
       "      <td>Condo/Co-op</td>\n",
       "      <td>98109</td>\n",
       "      <td>749900</td>\n",
       "      <td>1</td>\n",
       "      <td>1.50</td>\n",
       "      <td>1013.0</td>\n",
       "      <td>5</td>\n",
       "    </tr>\n",
       "    <tr>\n",
       "      <th>...</th>\n",
       "      <td>...</td>\n",
       "      <td>...</td>\n",
       "      <td>...</td>\n",
       "      <td>...</td>\n",
       "      <td>...</td>\n",
       "      <td>...</td>\n",
       "      <td>...</td>\n",
       "    </tr>\n",
       "    <tr>\n",
       "      <th>345</th>\n",
       "      <td>Condo/Co-op</td>\n",
       "      <td>98119</td>\n",
       "      <td>450000</td>\n",
       "      <td>1</td>\n",
       "      <td>1.00</td>\n",
       "      <td>501.0</td>\n",
       "      <td>83</td>\n",
       "    </tr>\n",
       "    <tr>\n",
       "      <th>346</th>\n",
       "      <td>Vacant Land</td>\n",
       "      <td>98178</td>\n",
       "      <td>120000</td>\n",
       "      <td>0</td>\n",
       "      <td>NaN</td>\n",
       "      <td>NaN</td>\n",
       "      <td>84</td>\n",
       "    </tr>\n",
       "    <tr>\n",
       "      <th>347</th>\n",
       "      <td>Single Family Residential</td>\n",
       "      <td>98106</td>\n",
       "      <td>488900</td>\n",
       "      <td>3</td>\n",
       "      <td>2.00</td>\n",
       "      <td>1610.0</td>\n",
       "      <td>85</td>\n",
       "    </tr>\n",
       "    <tr>\n",
       "      <th>348</th>\n",
       "      <td>Condo/Co-op</td>\n",
       "      <td>98102</td>\n",
       "      <td>779000</td>\n",
       "      <td>3</td>\n",
       "      <td>3.00</td>\n",
       "      <td>1833.0</td>\n",
       "      <td>85</td>\n",
       "    </tr>\n",
       "    <tr>\n",
       "      <th>349</th>\n",
       "      <td>Single Family Residential</td>\n",
       "      <td>98112</td>\n",
       "      <td>5295000</td>\n",
       "      <td>4</td>\n",
       "      <td>4.25</td>\n",
       "      <td>6040.0</td>\n",
       "      <td>85</td>\n",
       "    </tr>\n",
       "  </tbody>\n",
       "</table>\n",
       "<p>350 rows × 7 columns</p>\n",
       "</div>"
      ],
      "text/plain": [
       "                 PROPERTY TYPE    ZIP    PRICE  BEDS  BATHS  SQUARE FEET  \\\n",
       "0                  Condo/Co-op  98109   459000     2   1.00        760.0   \n",
       "1    Single Family Residential  98105   648000     3   1.75       1170.0   \n",
       "2    Single Family Residential  98146   440000     3   1.75       1510.0   \n",
       "3    Single Family Residential  98115   715000     3   1.00       1820.0   \n",
       "4                  Condo/Co-op  98109   749900     1   1.50       1013.0   \n",
       "..                         ...    ...      ...   ...    ...          ...   \n",
       "345                Condo/Co-op  98119   450000     1   1.00        501.0   \n",
       "346                Vacant Land  98178   120000     0    NaN          NaN   \n",
       "347  Single Family Residential  98106   488900     3   2.00       1610.0   \n",
       "348                Condo/Co-op  98102   779000     3   3.00       1833.0   \n",
       "349  Single Family Residential  98112  5295000     4   4.25       6040.0   \n",
       "\n",
       "     DAYS ON MARKET  \n",
       "0                 1  \n",
       "1                 1  \n",
       "2                 1  \n",
       "3                 1  \n",
       "4                 5  \n",
       "..              ...  \n",
       "345              83  \n",
       "346              84  \n",
       "347              85  \n",
       "348              85  \n",
       "349              85  \n",
       "\n",
       "[350 rows x 7 columns]"
      ]
     },
     "execution_count": 114,
     "metadata": {},
     "output_type": "execute_result"
    }
   ],
   "source": [
    "small_data = data[['PROPERTY TYPE', 'ZIP', 'PRICE', 'BEDS', 'BATHS', 'SQUARE FEET', 'DAYS ON MARKET']]\n",
    "small_data"
   ]
  },
  {
   "cell_type": "markdown",
   "metadata": {},
   "source": [
    "## Problem 2\n",
    "\n",
    "    *Show a sample of 5 houses\n",
    "    *Get a summary of the numerical values"
   ]
  },
  {
   "cell_type": "code",
   "execution_count": 115,
   "metadata": {},
   "outputs": [
    {
     "data": {
      "text/html": [
       "<div>\n",
       "<style scoped>\n",
       "    .dataframe tbody tr th:only-of-type {\n",
       "        vertical-align: middle;\n",
       "    }\n",
       "\n",
       "    .dataframe tbody tr th {\n",
       "        vertical-align: top;\n",
       "    }\n",
       "\n",
       "    .dataframe thead th {\n",
       "        text-align: right;\n",
       "    }\n",
       "</style>\n",
       "<table border=\"1\" class=\"dataframe\">\n",
       "  <thead>\n",
       "    <tr style=\"text-align: right;\">\n",
       "      <th></th>\n",
       "      <th>PROPERTY TYPE</th>\n",
       "      <th>ZIP</th>\n",
       "      <th>PRICE</th>\n",
       "      <th>BEDS</th>\n",
       "      <th>BATHS</th>\n",
       "      <th>SQUARE FEET</th>\n",
       "      <th>DAYS ON MARKET</th>\n",
       "    </tr>\n",
       "  </thead>\n",
       "  <tbody>\n",
       "    <tr>\n",
       "      <th>57</th>\n",
       "      <td>Vacant Land</td>\n",
       "      <td>98115</td>\n",
       "      <td>2600000</td>\n",
       "      <td>0</td>\n",
       "      <td>NaN</td>\n",
       "      <td>NaN</td>\n",
       "      <td>1</td>\n",
       "    </tr>\n",
       "    <tr>\n",
       "      <th>261</th>\n",
       "      <td>Single Family Residential</td>\n",
       "      <td>98119</td>\n",
       "      <td>1050000</td>\n",
       "      <td>3</td>\n",
       "      <td>1.75</td>\n",
       "      <td>1510.0</td>\n",
       "      <td>25</td>\n",
       "    </tr>\n",
       "    <tr>\n",
       "      <th>190</th>\n",
       "      <td>Single Family Residential</td>\n",
       "      <td>98117</td>\n",
       "      <td>565500</td>\n",
       "      <td>2</td>\n",
       "      <td>1.00</td>\n",
       "      <td>900.0</td>\n",
       "      <td>9</td>\n",
       "    </tr>\n",
       "    <tr>\n",
       "      <th>143</th>\n",
       "      <td>Single Family Residential</td>\n",
       "      <td>98112</td>\n",
       "      <td>2350000</td>\n",
       "      <td>5</td>\n",
       "      <td>3.00</td>\n",
       "      <td>4700.0</td>\n",
       "      <td>7</td>\n",
       "    </tr>\n",
       "    <tr>\n",
       "      <th>273</th>\n",
       "      <td>Single Family Residential</td>\n",
       "      <td>98136</td>\n",
       "      <td>1150000</td>\n",
       "      <td>4</td>\n",
       "      <td>2.25</td>\n",
       "      <td>3100.0</td>\n",
       "      <td>29</td>\n",
       "    </tr>\n",
       "  </tbody>\n",
       "</table>\n",
       "</div>"
      ],
      "text/plain": [
       "                 PROPERTY TYPE    ZIP    PRICE  BEDS  BATHS  SQUARE FEET  \\\n",
       "57                 Vacant Land  98115  2600000     0    NaN          NaN   \n",
       "261  Single Family Residential  98119  1050000     3   1.75       1510.0   \n",
       "190  Single Family Residential  98117   565500     2   1.00        900.0   \n",
       "143  Single Family Residential  98112  2350000     5   3.00       4700.0   \n",
       "273  Single Family Residential  98136  1150000     4   2.25       3100.0   \n",
       "\n",
       "     DAYS ON MARKET  \n",
       "57                1  \n",
       "261              25  \n",
       "190               9  \n",
       "143               7  \n",
       "273              29  "
      ]
     },
     "execution_count": 115,
     "metadata": {},
     "output_type": "execute_result"
    }
   ],
   "source": [
    "small_data.sample(5)"
   ]
  },
  {
   "cell_type": "code",
   "execution_count": 118,
   "metadata": {},
   "outputs": [
    {
     "data": {
      "text/plain": [
       "0.7884593476939279"
      ]
     },
     "execution_count": 118,
     "metadata": {},
     "output_type": "execute_result"
    }
   ],
   "source": [
    "c=small_data.dropna()\n",
    "column_1 = c[\"PRICE\"]\n",
    "column_2 = c[\"SQUARE FEET\"]\n",
    "correlation = column_1.corr(column_2)\n",
    "correlation"
   ]
  },
  {
   "cell_type": "markdown",
   "metadata": {},
   "source": [
    "## Problem 3\n",
    "Our data set contains 350 houses.  However, there are some NULL values in SQUARE FEET and BATHS.  Let's drop the houses with at least 1 NULL value in any of the columns of the dataset.\n",
    "\n",
    "**Hint:** Pandas dropna"
   ]
  },
  {
   "cell_type": "code",
   "execution_count": 106,
   "metadata": {},
   "outputs": [
    {
     "data": {
      "text/html": [
       "<div>\n",
       "<style scoped>\n",
       "    .dataframe tbody tr th:only-of-type {\n",
       "        vertical-align: middle;\n",
       "    }\n",
       "\n",
       "    .dataframe tbody tr th {\n",
       "        vertical-align: top;\n",
       "    }\n",
       "\n",
       "    .dataframe thead th {\n",
       "        text-align: right;\n",
       "    }\n",
       "</style>\n",
       "<table border=\"1\" class=\"dataframe\">\n",
       "  <thead>\n",
       "    <tr style=\"text-align: right;\">\n",
       "      <th></th>\n",
       "      <th>PROPERTY TYPE</th>\n",
       "      <th>ZIP</th>\n",
       "      <th>PRICE</th>\n",
       "      <th>BEDS</th>\n",
       "      <th>BATHS</th>\n",
       "      <th>SQUARE FEET</th>\n",
       "      <th>DAYS ON MARKET</th>\n",
       "    </tr>\n",
       "  </thead>\n",
       "  <tbody>\n",
       "    <tr>\n",
       "      <th>0</th>\n",
       "      <td>Condo/Co-op</td>\n",
       "      <td>98109</td>\n",
       "      <td>459000</td>\n",
       "      <td>2</td>\n",
       "      <td>1.00</td>\n",
       "      <td>760.0</td>\n",
       "      <td>1</td>\n",
       "    </tr>\n",
       "    <tr>\n",
       "      <th>1</th>\n",
       "      <td>Single Family Residential</td>\n",
       "      <td>98105</td>\n",
       "      <td>648000</td>\n",
       "      <td>3</td>\n",
       "      <td>1.75</td>\n",
       "      <td>1170.0</td>\n",
       "      <td>1</td>\n",
       "    </tr>\n",
       "    <tr>\n",
       "      <th>2</th>\n",
       "      <td>Single Family Residential</td>\n",
       "      <td>98146</td>\n",
       "      <td>440000</td>\n",
       "      <td>3</td>\n",
       "      <td>1.75</td>\n",
       "      <td>1510.0</td>\n",
       "      <td>1</td>\n",
       "    </tr>\n",
       "    <tr>\n",
       "      <th>3</th>\n",
       "      <td>Single Family Residential</td>\n",
       "      <td>98115</td>\n",
       "      <td>715000</td>\n",
       "      <td>3</td>\n",
       "      <td>1.00</td>\n",
       "      <td>1820.0</td>\n",
       "      <td>1</td>\n",
       "    </tr>\n",
       "    <tr>\n",
       "      <th>4</th>\n",
       "      <td>Condo/Co-op</td>\n",
       "      <td>98109</td>\n",
       "      <td>749900</td>\n",
       "      <td>1</td>\n",
       "      <td>1.50</td>\n",
       "      <td>1013.0</td>\n",
       "      <td>5</td>\n",
       "    </tr>\n",
       "    <tr>\n",
       "      <th>...</th>\n",
       "      <td>...</td>\n",
       "      <td>...</td>\n",
       "      <td>...</td>\n",
       "      <td>...</td>\n",
       "      <td>...</td>\n",
       "      <td>...</td>\n",
       "      <td>...</td>\n",
       "    </tr>\n",
       "    <tr>\n",
       "      <th>344</th>\n",
       "      <td>Single Family Residential</td>\n",
       "      <td>98108</td>\n",
       "      <td>670000</td>\n",
       "      <td>4</td>\n",
       "      <td>2.50</td>\n",
       "      <td>1104.0</td>\n",
       "      <td>83</td>\n",
       "    </tr>\n",
       "    <tr>\n",
       "      <th>345</th>\n",
       "      <td>Condo/Co-op</td>\n",
       "      <td>98119</td>\n",
       "      <td>450000</td>\n",
       "      <td>1</td>\n",
       "      <td>1.00</td>\n",
       "      <td>501.0</td>\n",
       "      <td>83</td>\n",
       "    </tr>\n",
       "    <tr>\n",
       "      <th>347</th>\n",
       "      <td>Single Family Residential</td>\n",
       "      <td>98106</td>\n",
       "      <td>488900</td>\n",
       "      <td>3</td>\n",
       "      <td>2.00</td>\n",
       "      <td>1610.0</td>\n",
       "      <td>85</td>\n",
       "    </tr>\n",
       "    <tr>\n",
       "      <th>348</th>\n",
       "      <td>Condo/Co-op</td>\n",
       "      <td>98102</td>\n",
       "      <td>779000</td>\n",
       "      <td>3</td>\n",
       "      <td>3.00</td>\n",
       "      <td>1833.0</td>\n",
       "      <td>85</td>\n",
       "    </tr>\n",
       "    <tr>\n",
       "      <th>349</th>\n",
       "      <td>Single Family Residential</td>\n",
       "      <td>98112</td>\n",
       "      <td>5295000</td>\n",
       "      <td>4</td>\n",
       "      <td>4.25</td>\n",
       "      <td>6040.0</td>\n",
       "      <td>85</td>\n",
       "    </tr>\n",
       "  </tbody>\n",
       "</table>\n",
       "<p>324 rows × 7 columns</p>\n",
       "</div>"
      ],
      "text/plain": [
       "                 PROPERTY TYPE    ZIP    PRICE  BEDS  BATHS  SQUARE FEET  \\\n",
       "0                  Condo/Co-op  98109   459000     2   1.00        760.0   \n",
       "1    Single Family Residential  98105   648000     3   1.75       1170.0   \n",
       "2    Single Family Residential  98146   440000     3   1.75       1510.0   \n",
       "3    Single Family Residential  98115   715000     3   1.00       1820.0   \n",
       "4                  Condo/Co-op  98109   749900     1   1.50       1013.0   \n",
       "..                         ...    ...      ...   ...    ...          ...   \n",
       "344  Single Family Residential  98108   670000     4   2.50       1104.0   \n",
       "345                Condo/Co-op  98119   450000     1   1.00        501.0   \n",
       "347  Single Family Residential  98106   488900     3   2.00       1610.0   \n",
       "348                Condo/Co-op  98102   779000     3   3.00       1833.0   \n",
       "349  Single Family Residential  98112  5295000     4   4.25       6040.0   \n",
       "\n",
       "     DAYS ON MARKET  \n",
       "0                 1  \n",
       "1                 1  \n",
       "2                 1  \n",
       "3                 1  \n",
       "4                 5  \n",
       "..              ...  \n",
       "344              83  \n",
       "345              83  \n",
       "347              85  \n",
       "348              85  \n",
       "349              85  \n",
       "\n",
       "[324 rows x 7 columns]"
      ]
     },
     "execution_count": 106,
     "metadata": {},
     "output_type": "execute_result"
    }
   ],
   "source": [
    "small_data.dropna()"
   ]
  },
  {
   "cell_type": "markdown",
   "metadata": {},
   "source": [
    "## Problem 4\n",
    "Create a histograms that shows the distribution of the number of BEDS"
   ]
  },
  {
   "cell_type": "code",
   "execution_count": 107,
   "metadata": {},
   "outputs": [
    {
     "data": {
      "image/png": "[encoded data removed]",
      "text/plain": [
       "<Figure size 720x360 with 1 Axes>"
      ]
     },
     "metadata": {
      "needs_background": "light"
     },
     "output_type": "display_data"
    }
   ],
   "source": [
    "plt.figure(figsize=[10,5])\n",
    "\n",
    "# plt.hist(small_data['BEDS'])\n",
    "plt.hist(small_data['BEDS'],small_data['BEDS'].max())\n",
    "plt.title('Distribution of Number of Bedrooms');"
   ]
  },
  {
   "cell_type": "markdown",
   "metadata": {},
   "source": [
    "## Problem 5\n",
    "\n",
    "Create a pie chart that shows the percenatge of houses with more than 2 bathrooms, compared to 2 or less bathrooms."
   ]
  },
  {
   "cell_type": "code",
   "execution_count": 108,
   "metadata": {},
   "outputs": [
    {
     "name": "stdout",
     "output_type": "stream",
     "text": [
      "153 171\n"
     ]
    },
    {
     "data": {
      "image/png": "[encoded data removed]",
      "text/plain": [
       "<Figure size 360x360 with 1 Axes>"
      ]
     },
     "metadata": {},
     "output_type": "display_data"
    }
   ],
   "source": [
    "greater = len(small_data[small_data['BATHS']>2])\n",
    "lessthan = len(small_data[small_data['BATHS']<=2])\n",
    "print(greater,lessthan)\n",
    "plt.figure(figsize=[5,5])\n",
    "plt.pie([greater,lessthan],labels=['Greater','Less Than']);"
   ]
  },
  {
   "cell_type": "markdown",
   "metadata": {},
   "source": [
    "## Problem 6\n",
    "\n",
    "Create two scatter plots that shows the PRICE in the $y$ axis and the SQUARE FEET in the $x$-axis.\n",
    "\n",
    "1) One scatter plot should be in a normal scale.\n",
    "\n",
    "2) The other scatter plot should have a log-log scale."
   ]
  },
  {
   "cell_type": "code",
   "execution_count": 30,
   "metadata": {},
   "outputs": [
    {
     "data": {
      "image/png": "[encoded data removed]",
      "text/plain": [
       "<Figure size 720x360 with 2 Axes>"
      ]
     },
     "metadata": {
      "needs_background": "light"
     },
     "output_type": "display_data"
    }
   ],
   "source": [
    "plt.figure(figsize=(10,5))\n",
    "\n",
    "plt.subplot(1,2,1)\n",
    "plt.scatter(small_data['SQUARE FEET'],small_data['PRICE'],alpha = 0.5,s=10);\n",
    "\n",
    "plt.subplot(1,2,2)\n",
    "plt.loglog(small_data['SQUARE FEET'],small_data['PRICE'],'r.',alpha = 0.5);"
   ]
  },
  {
   "cell_type": "markdown",
   "metadata": {},
   "source": [
    "## Problem 7 (Challenge)\n",
    "\n",
    "Create a bar chart that shows the different PROPERTY TYPEs in the $x$-axis, and the average days on the market on the $y$-axis."
   ]
  },
  {
   "cell_type": "code",
   "execution_count": 31,
   "metadata": {},
   "outputs": [
    {
     "data": {
      "image/png": "[encoded data removed]",
      "text/plain": [
       "<Figure size 432x288 with 1 Axes>"
      ]
     },
     "metadata": {
      "needs_background": "light"
     },
     "output_type": "display_data"
    }
   ],
   "source": [
    "PropType = small_data.groupby(['PROPERTY TYPE'])['DAYS ON MARKET'].mean()\n",
    "plt.bar(range(len(PropType)),PropType.values)\n",
    "plt.xticks(range(len(PropType)),PropType.index,rotation = 90)\n",
    "plt.grid();"
   ]
  },
  {
   "cell_type": "code",
   "execution_count": null,
   "metadata": {},
   "outputs": [],
   "source": []
  }
 ],
 "metadata": {
  "kernelspec": {
   "display_name": "Python 3",
   "language": "python",
   "name": "python3"
  },
  "language_info": {
   "codemirror_mode": {
    "name": "ipython",
    "version": 3
   },
   "file_extension": ".py",
   "mimetype": "text/x-python",
   "name": "python",
   "nbconvert_exporter": "python",
   "pygments_lexer": "ipython3",
   "version": "3.8.8"
  },
  "toc": {
   "base_numbering": 1,
   "nav_menu": {},
   "number_sections": true,
   "sideBar": true,
   "skip_h1_title": false,
   "title_cell": "Table of Contents",
   "title_sidebar": "Contents",
   "toc_cell": false,
   "toc_position": {},
   "toc_section_display": true,
   "toc_window_display": true
  }
 },
 "nbformat": 4,
 "nbformat_minor": 2
}
