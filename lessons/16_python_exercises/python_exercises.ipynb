{
 "cells": [
  {
   "cell_type": "markdown",
   "metadata": {},
   "source": [
    "# Python \n",
    "## Part 12\n",
    "\n",
    "In this notebook we will: \n",
    "- Solve problems that will reinforce your Python skills.  We will cover some of these problems in class, and it is encouraged that you work through the remaining problems on your own time."
   ]
  },
  {
   "cell_type": "markdown",
   "metadata": {},
   "source": [
    "### Fruit Count\n",
    "\n",
    "Create a dictionary that contains the following items: bananas: 3, apples: 2, pears: 5, oranges: 0\n",
    "\n",
    "Using `if statements` complete the following:\n",
    "\n",
    "A) If there are 3 or more bananas, print __Three or more bananas__; otherwise, print __Less than three bananas__.\n",
    "\n",
    "B) If there are more than five fruits in total, print __More than five fruits__; otherwise, print __No more than five fruits__\n",
    "\n",
    "C) If there are more than 3 apples, check if there are 2 or more pears and print __True__; otherwise, print __False__"
   ]
  },
  {
   "cell_type": "code",
   "execution_count": 20,
   "metadata": {},
   "outputs": [
    {
     "name": "stdout",
     "output_type": "stream",
     "text": [
      "4\n",
      " Less than three bananas.\n"
     ]
    }
   ],
   "source": [
    "# A\n",
    "fruits={\"bananas\":2,\"apples\":2,\"pears\":2,\"oranges\":0}\n",
    "print(len(fruit))\n",
    "if fruits[\"bananas\"]>3:\n",
    "    print(\"Three or more bananas\")\n",
    "else:\n",
    "    print(\" Less than three bananas.\")\n"
   ]
  },
  {
   "cell_type": "code",
   "execution_count": 22,
   "metadata": {},
   "outputs": [
    {
     "name": "stdout",
     "output_type": "stream",
     "text": [
      "More than five fruits\n",
      "6\n"
     ]
    }
   ],
   "source": [
    "# B \n",
    "total_fruits=0\n",
    "for fruit in fruits:\n",
    "    total_fruit+=fruits[fruit]\n",
    "if total_fruit>5:\n",
    "    print(\"More than five fruits\")\n",
    "else:\n",
    "    print(\"No more than five fruits\")\n",
    "    \n",
    "# print(sum(fruits.values())) "
   ]
  },
  {
   "cell_type": "code",
   "execution_count": 23,
   "metadata": {},
   "outputs": [
    {
     "name": "stdout",
     "output_type": "stream",
     "text": [
      "False\n"
     ]
    }
   ],
   "source": [
    "if fruits[\"apples\"]>3:\n",
    "    if fruits[\"pears\"]>=2:\n",
    "        print(\"True\")\n",
    "    else:\n",
    "        print(\"False\")\n",
    "else:\n",
    "    print(\"False\")"
   ]
  },
  {
   "cell_type": "markdown",
   "metadata": {},
   "source": [
    "### Fruit Count 2\n",
    "You are given a dictionary that has the count of the number of fruits in a basket. Write a function that takes in the dictionary and outputs the total number of fruits in the basket.\n",
    "\n",
    "Sample input: fruits = {\"oranges\": 5, \"apples\": 2, \"blueberries\": 12}\n",
    "Expected output: 19"
   ]
  },
  {
   "cell_type": "code",
   "execution_count": 57,
   "metadata": {},
   "outputs": [
    {
     "data": {
      "text/plain": [
       "19"
      ]
     },
     "execution_count": 57,
     "metadata": {},
     "output_type": "execute_result"
    }
   ],
   "source": [
    "def total_fruits(fruits):\n",
    "    \n",
    "    return sum(fruits.values())\n",
    "total_fruits({\"oranges\": 5, \"apples\": 2, \"blueberries\": 12})\n",
    "    \n",
    "    "
   ]
  },
  {
   "cell_type": "markdown",
   "metadata": {},
   "source": [
    "### Colors\n",
    "Write a function that returns a `set` containing all the colors from color_list_1 which are not present in color_list_2.\n",
    "\n",
    "Test Data :  \n",
    "`color_list_1 = set([\"White\", \"Black\", \"Red\"])`   \n",
    "`color_list_2 = set([\"Red\", \"Green\"])`  \n",
    "Expected Output :  \n",
    "`{'Black', 'White'}`"
   ]
  },
  {
   "cell_type": "code",
   "execution_count": 64,
   "metadata": {},
   "outputs": [
    {
     "data": {
      "text/plain": [
       "{'Black', 'White'}"
      ]
     },
     "execution_count": 64,
     "metadata": {},
     "output_type": "execute_result"
    }
   ],
   "source": [
    "\n",
    "w=set([\"White\", \"Black\", \"Red\"])\n",
    "z=set([\"Red\", \"Green\"])\n",
    "\n",
    "def colors(set1,set2):\n",
    "    deff=set1.difference(set2)\n",
    "    return deff\n",
    "colors(w,z)\n",
    "# OR\n",
    "#  set1-set2"
   ]
  },
  {
   "cell_type": "markdown",
   "metadata": {},
   "source": [
    "## Digit and Letter Count\n",
    "Write a function that accepts a string and returns a dictionary with the number of digits and letters. \n",
    "\n",
    "Input String : `\"Python 3.2\"`  \n",
    "\n",
    "Expected Output :  \n",
    "`{'Letters': 6,  'Digits': 2}`  \n",
    "\n",
    "__Hint:__ you can use Python string's inherent `isdigit()` and `isalpha()` method. For example, \"a\".isdigit() returns `False`, while \"a\".isalpha() returns `True`."
   ]
  },
  {
   "cell_type": "code",
   "execution_count": 76,
   "metadata": {},
   "outputs": [
    {
     "data": {
      "text/plain": [
       "{'Letters': 6, 'digit': 2}"
      ]
     },
     "execution_count": 76,
     "metadata": {},
     "output_type": "execute_result"
    }
   ],
   "source": [
    "def digit_letter(string):\n",
    "    dic={}\n",
    "    digit=0\n",
    "    Letters =0\n",
    "    for i in string:\n",
    "        if i.isdigit():\n",
    "            digit+=1\n",
    "            dic[\"digit\"]=digit\n",
    "        if i.isalpha():\n",
    "            Letters+=1\n",
    "            dic[\"Letters\"]=Letters\n",
    "    return dic\n",
    "digit_letter(\"Python 3.2\")\n",
    "            \n",
    "    "
   ]
  },
  {
   "cell_type": "markdown",
   "metadata": {},
   "source": [
    "### Reverse Digits\n",
    "\n",
    "Write a function that reverses the digits of a number.  For example the integer `1234` should return the integer `4321`.  Assume, that the input integer does not end with a `0`!"
   ]
  },
  {
   "cell_type": "code",
   "execution_count": 126,
   "metadata": {},
   "outputs": [
    {
     "name": "stdout",
     "output_type": "stream",
     "text": [
      "0\n"
     ]
    }
   ],
   "source": [
    "# def reverse(number):\n",
    "#     number=str(number)\n",
    "#     number=number[::-1]\n",
    "#     print(number)\n",
    "\n",
    "# reverse(1234)\n",
    "n = 1234\n",
    "rev = 0\n",
    " \n",
    "# while(n > 0):\n",
    "#     a = n % 10\n",
    "#     print(a)\n",
    "#     rev = rev * 10 + a\n",
    "#     print(rev)\n",
    "#     n = n // 10\n",
    " \n",
    "print(rev)"
   ]
  },
  {
   "cell_type": "markdown",
   "metadata": {},
   "source": [
    "### Factorial\n",
    "\n",
    "Write a function called `factorial` that receives an integer and returns it's factorial.  For example\n",
    "`factorial(5)`  should return `120` (5x4x3x2).\n"
   ]
  },
  {
   "cell_type": "code",
   "execution_count": 130,
   "metadata": {},
   "outputs": [
    {
     "data": {
      "text/plain": [
       "24"
      ]
     },
     "execution_count": 130,
     "metadata": {},
     "output_type": "execute_result"
    }
   ],
   "source": [
    "def factorial(num):\n",
    "    foc=1\n",
    "    for num in range(1,num+1):\n",
    "        foc*=num\n",
    "    return foc\n",
    "factorial(4)"
   ]
  },
  {
   "cell_type": "markdown",
   "metadata": {},
   "source": [
    "### Upper and Lower Case Count\n",
    "\n",
    "Write a function `upper_lower` that receives a string and returns a dictionary with the keys `upper` and `lower` and the values are the counts of the number of upper and lower characters.  For example, `The quick Brown Fox` would return `{'upper': 3, 'lower': 13}`"
   ]
  },
  {
   "cell_type": "code",
   "execution_count": 139,
   "metadata": {},
   "outputs": [
    {
     "data": {
      "text/plain": [
       "{'upper': 9, 'lower': 1}"
      ]
     },
     "execution_count": 139,
     "metadata": {},
     "output_type": "execute_result"
    }
   ],
   "source": [
    "def upper_lower(string):\n",
    "    dic={'upper':0,'lower':0}\n",
    "    \n",
    "    for every_litters in string:\n",
    "        if every_litters.islower():\n",
    "            dic[\"lower\"]+=1\n",
    "        if every_litters.isupper():\n",
    "            dic['upper']+=1\n",
    "    return dic\n",
    "upper_lower(\"TPODKOPKoS\")\n",
    "    \n",
    "        "
   ]
  },
  {
   "cell_type": "markdown",
   "metadata": {},
   "source": [
    "### Multiples of 11\n",
    "\n",
    "Write a function that receives a list and returns a new list with the numbers that are multiples of 11 sorted from high to low. For example, `[11, 3, 66, 38, 44, 69]` returns `[66, 44, 11]`."
   ]
  },
  {
   "cell_type": "code",
   "execution_count": 183,
   "metadata": {},
   "outputs": [
    {
     "data": {
      "text/plain": [
       "[99, 88, 55, 44, 33, 22, 11]"
      ]
     },
     "execution_count": 183,
     "metadata": {},
     "output_type": "execute_result"
    }
   ],
   "source": [
    "def Multiples_of_11(list1):\n",
    "#     list1=set(list1)\n",
    "    for num in list1:\n",
    "        if num%11!=0:\n",
    "            list1.remove(num)\n",
    "    for i in range(len(list1)):\n",
    "        for j in range(len(list1)):\n",
    "            if list1[i]>list1[j]:\n",
    "#                 x=list1[j]\n",
    "#                 list1[j]=list1[i]              \n",
    "#                 list1[i]=x\n",
    "                list1[i],list1[j]=list1[j],list1[i]\n",
    "\n",
    "\n",
    "    return list1\n",
    "Multiples_of_11([99,55,11,33,88,44,22])\n",
    "        \n",
    "    "
   ]
  },
  {
   "cell_type": "markdown",
   "metadata": {},
   "source": [
    "### Palindrome\n",
    "\n",
    "Write a function that receives a string and returns `True` or `False` depending if the word is a palindrome.  A palindrome is a word, phrase or sequence that reads the same backward as forward.  Examples of palindromes are `racecar` and `Nurses Run`. \n",
    "\n",
    "__NOTE__: it should be case sensitive and should ignore spaces."
   ]
  },
  {
   "cell_type": "code",
   "execution_count": 216,
   "metadata": {},
   "outputs": [
    {
     "data": {
      "text/plain": [
       "True"
      ]
     },
     "execution_count": 216,
     "metadata": {},
     "output_type": "execute_result"
    }
   ],
   "source": [
    "def Palindrome(string):\n",
    "    string=string.lower().replace(' ','')\n",
    "    if string==string[::-1]:\n",
    "        return True\n",
    "    else:\n",
    "        return False"
   ]
  },
  {
   "cell_type": "code",
   "execution_count": 218,
   "metadata": {},
   "outputs": [
    {
     "data": {
      "text/plain": [
       "False"
      ]
     },
     "execution_count": 218,
     "metadata": {},
     "output_type": "execute_result"
    }
   ],
   "source": [
    "Palindrome(\"Hind\")\n"
   ]
  },
  {
   "cell_type": "code",
   "execution_count": 219,
   "metadata": {},
   "outputs": [
    {
     "data": {
      "text/plain": [
       "True"
      ]
     },
     "execution_count": 219,
     "metadata": {},
     "output_type": "execute_result"
    }
   ],
   "source": [
    "Palindrome(\"Nurses Run\")"
   ]
  },
  {
   "cell_type": "code",
   "execution_count": 220,
   "metadata": {},
   "outputs": [
    {
     "data": {
      "text/plain": [
       "True"
      ]
     },
     "execution_count": 220,
     "metadata": {},
     "output_type": "execute_result"
    }
   ],
   "source": [
    "Palindrome(\"ractcar\")\n"
   ]
  },
  {
   "cell_type": "markdown",
   "metadata": {},
   "source": [
    "### Sorted-Hyphen\n",
    "\n",
    "Write a function that accepts a hyphen-separated sequence of words as input and returns the words in a hyphen-separated sequence after sorting them alphabetically. For example: `green-red-yellow-black-white` returns\n",
    "`black-green-red-white-yellow`."
   ]
  },
  {
   "cell_type": "code",
   "execution_count": 245,
   "metadata": {},
   "outputs": [
    {
     "data": {
      "text/plain": [
       "'areen-black-cellow-ded-ehite'"
      ]
     },
     "execution_count": 245,
     "metadata": {},
     "output_type": "execute_result"
    }
   ],
   "source": [
    "def  sorting_alphabetically(text):\n",
    "    text=text.split(\"-\")\n",
    "    text.sort(reverse=False)\n",
    "    text=\"-\".join(text)\n",
    "    return text\n",
    "sorting_alphabetically(\"areen-ded-cellow-black-ehite\")"
   ]
  },
  {
   "cell_type": "markdown",
   "metadata": {},
   "source": [
    "### Pangram\n",
    "\n",
    "Write a function that returns `True` or `False` if a string is a pangram. \n",
    "\n",
    "__Note:__ Pangrams are words or sentences containing every letter of the alphabet at least once.\n",
    "For example : \"The quick brown fox jumps over the lazy dog!\" should return `True`"
   ]
  },
  {
   "cell_type": "code",
   "execution_count": 258,
   "metadata": {},
   "outputs": [
    {
     "data": {
      "text/plain": [
       "False"
      ]
     },
     "execution_count": 258,
     "metadata": {},
     "output_type": "execute_result"
    }
   ],
   "source": [
    "def Pangram(text):\n",
    "    text=text.lower()\n",
    "    text=text.replace(' ','')\n",
    "    text=set(text)\n",
    "    text=sorted(text)\n",
    "#     print(text)\n",
    "    return len(text)==26\n",
    "Pangram(\"The quick brown fox jumps over the laz dog\")"
   ]
  },
  {
   "cell_type": "markdown",
   "metadata": {},
   "source": [
    "### Scrabble\n"
   ]
  },
  {
   "cell_type": "markdown",
   "metadata": {},
   "source": [
    "``` python\n",
    "TILE_SCORES = {\n",
    "    'A': 1, 'B': 3, 'C': 3, 'D': 2, 'E': 1,\n",
    "    'F': 4, 'G': 2, 'H': 4, 'I': 1, 'J': 8,\n",
    "    'K': 5, 'L': 1, 'M': 3, 'N': 1, 'O': 1,\n",
    "    'P': 3, 'Q':10, 'R': 1, 'S': 1, 'T': 1,\n",
    "    'U': 1, 'V': 4, 'W': 4, 'X': 8, 'Y': 4,\n",
    "    'Z': 10\n",
    "}\n",
    "```"
   ]
  },
  {
   "cell_type": "markdown",
   "metadata": {},
   "source": [
    "Write a function `score_word(word)` that takes a `word` (e.g. \"DOCTOR\") and returns the score, where each letter's score is the value in `TILE_SCORES` (in this case 2+1+3+1+1+1 = 9 is the score for DOCTOR).  Use the dictionary above.\n",
    "\n",
    "Bonus: you should make it case-insensitive, e.g. both `score_word(\"DOCTOR\")` and `score_word(\"doctor\")` return 9"
   ]
  },
  {
   "cell_type": "code",
   "execution_count": 260,
   "metadata": {},
   "outputs": [],
   "source": [
    "TILE_SCORES = {\n",
    "    'A': 1, 'B': 3, 'C': 3, 'D': 2, 'E': 1,\n",
    "    'F': 4, 'G': 2, 'H': 4, 'I': 1, 'J': 8,\n",
    "    'K': 5, 'L': 1, 'M': 3, 'N': 1, 'O': 1,\n",
    "    'P': 3, 'Q':10, 'R': 1, 'S': 1, 'T': 1,\n",
    "    'U': 1, 'V': 4, 'W': 4, 'X': 8, 'Y': 4,\n",
    "    'Z': 10\n",
    "}"
   ]
  },
  {
   "cell_type": "code",
   "execution_count": 267,
   "metadata": {},
   "outputs": [
    {
     "data": {
      "text/plain": [
       "8"
      ]
     },
     "execution_count": 267,
     "metadata": {},
     "output_type": "execute_result"
    }
   ],
   "source": [
    "def score_word(word):\n",
    "    word = word.upper()\n",
    "    TILE_SCORES = {\n",
    "    'A': 1, 'B': 3, 'C': 3, 'D': 2, 'E': 1,\n",
    "    'F': 4, 'G': 2, 'H': 4, 'I': 1, 'J': 8,\n",
    "    'K': 5, 'L': 1, 'M': 3, 'N': 1, 'O': 1,\n",
    "    'P': 3, 'Q':10, 'R': 1, 'S': 1, 'T': 1,\n",
    "    'U': 1, 'V': 4, 'W': 4, 'X': 8, 'Y': 4,\n",
    "    'Z': 10\n",
    "}\n",
    "    Total_score_word=0\n",
    "    for litter in word :\n",
    "        Total_score_word+=TILE_SCORES[litter]\n",
    "    return Total_score_word\n",
    "score_word(\"x\")\n",
    "        "
   ]
  },
  {
   "cell_type": "code",
   "execution_count": null,
   "metadata": {},
   "outputs": [],
   "source": []
  },
  {
   "cell_type": "markdown",
   "metadata": {},
   "source": [
    "### Scrabble 2\n"
   ]
  },
  {
   "cell_type": "markdown",
   "metadata": {},
   "source": [
    "Using the following code, load a list of words.\n",
    "``` python\n",
    "with open('words.txt') as f:\n",
    "    WORDS = [w.strip() for w in f.readlines()]\n",
    "print(WORDS[:10])\n",
    "```\n",
    "\n",
    "Write a function that uses the `score_word` function above and calculates the score of each word.  It should return a dictionary where the keys are the score and the values is a list of the words that got a certain score. What is the highest score and what is/are the word(s) that achieved that score? "
   ]
  },
  {
   "cell_type": "code",
   "execution_count": null,
   "metadata": {},
   "outputs": [],
   "source": [
    "def score_word1(word):\n",
    "    "
   ]
  },
  {
   "cell_type": "markdown",
   "metadata": {},
   "source": [
    "### Telephone Words\n",
    "\n",
    "Write a function `word_to_num` that receives a phone number (with text), and converts in into numbers using the telephone keypad:\n",
    "\n",
    "![Telephone keypad](keypad.png)\n",
    "\n",
    "For example, `1-888-WAIT-WAI` (the number for NPRs \"Wait, Wait, Don't tell me\") should return the string `1-888-924-8924`."
   ]
  },
  {
   "cell_type": "markdown",
   "metadata": {
    "ExecuteTime": {
     "end_time": "2020-01-28T02:24:19.539683Z",
     "start_time": "2020-01-28T02:24:19.535433Z"
    }
   },
   "source": [
    "Use the following dictionary:\n",
    "\n",
    "```python\n",
    "NUM_TO_LETTERS = {\n",
    "    2: 'ABC',\n",
    "    3: 'DEF',\n",
    "    4: 'GHI',\n",
    "    5: 'JKL',\n",
    "    6: 'MNO',\n",
    "    7: 'PQRS',\n",
    "    8: 'TUV',\n",
    "    9: 'WXYZ'\n",
    "}```"
   ]
  },
  {
   "cell_type": "code",
   "execution_count": 313,
   "metadata": {},
   "outputs": [
    {
     "name": "stdout",
     "output_type": "stream",
     "text": [
      "1-888-WIT-WAI\n"
     ]
    },
    {
     "data": {
      "text/plain": [
       "'1-888-WIT-WAI'"
      ]
     },
     "execution_count": 313,
     "metadata": {},
     "output_type": "execute_result"
    }
   ],
   "source": [
    "def word_to_num(phone_number):\n",
    "    NUM_TO_LETTERS = {\n",
    "    2: 'ABC',\n",
    "    3: 'DEF',\n",
    "    4: 'GHI',\n",
    "    5: 'JKL',\n",
    "    6: 'MNO',\n",
    "    7: 'PQRS',\n",
    "    8: 'TUV',\n",
    "    9: 'WXYZ'\n",
    "}\n",
    "    print(phone_number)\n",
    "\n",
    "    for char in phone_number :\n",
    "        if char.isalpha():\n",
    "            for key in NUM_TO_LETTERS:\n",
    "                val= NUM_TO_LETTERS[key]\n",
    "                for i in range(len(val)):\n",
    "                    if i == char:\n",
    "                        phone_number=phone_number.replace(char,key)\n",
    "                        print(phone_number)\n",
    "    return phone_number\n",
    "\n",
    "    \n",
    "    \n",
    "word_to_num(\"1-888-WIT-WAI\")\n",
    "            "
   ]
  },
  {
   "cell_type": "markdown",
   "metadata": {},
   "source": [
    "### 6 Telephone Words 2\n",
    "\n",
    "Make a new dictionary called `LETTERS_TO_NUM`, using `NUM_TO_LETTERS`, that looks like the following:\n",
    "\n",
    "`{'A': 2, 'B': 2, 'C': 2, 'D': 3,...'Y': 9,'Z': 9}` and use this to create a new function that solves the previous question."
   ]
  },
  {
   "cell_type": "markdown",
   "metadata": {},
   "source": [
    "### 5 Anagrams\n",
    "\n",
    "Write a function `are_anagrams(word1, word2)`, that checks if two words are anagrams or not (__anagram:__ a word, phrase, or name formed by rearranging the letters of another, such as `cinema`, formed from `iceman`.). If they are anagrams, return `True`, otherwise return `False`. Let's assume we are case-sensitive (i.e. `b` and `B` are not the same letter).\n",
    "\n",
    "Examples:\n",
    "```python\n",
    "are_anagrams('debit card','bad credit')\n",
    "True\n",
    "are_anagrams('The eyes', 'They see')\n",
    "True\n",
    "are_anagrams('adam', 'dama')\n",
    "True\n",
    "are_anagrams('adam', 'mad')\n",
    "False\n",
    "are_anagrams('debit card','Bad credit')\n",
    "False\n",
    "```"
   ]
  },
  {
   "cell_type": "markdown",
   "metadata": {},
   "source": [
    "### 4 Millionaire\n",
    "\n",
    "Let's look at the world of compound interest.\n",
    "\n",
    "Let's say we have a 10%  annual interest rate (**sign me up!**), and start with 100.00 in my bank account. How much do I have after one year? The answer if the interest isn't compounded is\n",
    "$$\\text{interest after 1 year} = \\$100.00 * (1 + 0.10) = \\$110.00 $$\n",
    "\n",
    "If we compound the interest every 6 months, then \"10% per year\" is actually \"5% per 6 months\". Then we get\n",
    "$$\\text{interest after 6 months} = $100.00 * (1 + 0.05) = \\$105.00 $$\n",
    "and\n",
    "$$\\text{interest after 1 year} = \\$105.00 * (1 + 0.05) = \\$110.25 $$\n",
    "Note we could rewrite this as\n",
    "$$\\text{interest after 1 year} = \\$100.00 * \\left(1 + \\frac{0.10}{2}\\right)^2 = \\$110.25 $$\n",
    "\n",
    "If we compound interest every month, then \"10% per year\" is \"(10/12)% per month\", and we apply it 12 times. The formula is\n",
    "$$\\text{interest after 1 year} = \\$100.00 * \\left(1 + \\frac{0.10}{12}\\right)^{12} = \\$110.47$$\n",
    "\n",
    "If we compound interest every _day_ , then \"10% per year\" is \"(10/365)% per day\", and we apply it 365 times for a year. The formula is then \n",
    "$$\\text{interest after 1 year} = \\$100.00 * \\left(1 + \\frac{0.10}{365}\\right)^{365} = \\$110.52$$\n",
    "\n"
   ]
  },
  {
   "cell_type": "markdown",
   "metadata": {},
   "source": [
    "Write a function\n",
    "```python\n",
    "get_balance(initial_balance, num_days, annual_interest_rate)\n",
    "```\n",
    "\n",
    "Gets the balance if we started with `initial_balance` after `num_days`, if there is an interest rate of `annual_interest_rate`, compounded daily\n",
    "\n",
    "Examples:\n",
    "```python\n",
    "# put $1k in a 0% account for a year\n",
    "get_balance(1000.00, 365, 0.0) \n",
    "1000.00\n",
    "\n",
    "# put $1k in a 4% APR account for a year. Note that because of compound interest\n",
    "# the number is bigger than $1040 ($40 is 4% of $1k) \n",
    "get_balance(1000.00, 365, 0.04)  # put $1k in a 4% APR accoun\n",
    "$1040.8085\n",
    "```"
   ]
  },
  {
   "cell_type": "markdown",
   "metadata": {},
   "source": [
    "### 3 Millionaire 2\n",
    "\n",
    "Write a function that given an interest rate and an initial balance, it returns how many days it would take for the balance to reach one million dollars. That is, what is the _smallest_ number of days we would have to wait before we reach one million dollars or more. You can use the `get_balance()` function from the previous problem.\n",
    "\n",
    "Example:\n",
    "```python\n",
    "# Start with $1000 initial balance, with a 5% APR (compounded daily)\n",
    "# How many days until we hit more than one million dollars?\n",
    "days_to_one_million(1000, 0.05)\n",
    "50431\n",
    "# i.e. 50431 days, or 138 years\n",
    "```"
   ]
  },
  {
   "cell_type": "markdown",
   "metadata": {},
   "source": [
    "### 2 Email Validation\n",
    "\n",
    "Write a function that receives a list of strings and determines if they are valid emails.  A valid email is defined as:\n",
    "- Has at least 8 characters\n",
    "- Ends with `.com`\n",
    "- Has an `@` in the string between the second character (index 1) and before the `.com`\n",
    "\n",
    "The function returns a dictionary with the string as keys and the `True` or `False` as the values.\n",
    "\n",
    "As an example, the following list\n",
    "```python\n",
    "emails = ['clark_kent@gmail.com','@clark_kentgmail.com','c@g.com',\n",
    "          'clark_kent@gmail.org','clark_kent@gmailorg']\n",
    "email(emails)\n",
    "```\n",
    "would return\n",
    "```python\n",
    "{'clark_kent@gmail.com': True,\n",
    " '@clark_kentgmail.com': False,\n",
    " 'c@g.com': False,\n",
    " 'clark_kent@gmail.org': False,\n",
    " 'clark_kent@gmailorg': False}\n",
    "```"
   ]
  },
  {
   "cell_type": "markdown",
   "metadata": {},
   "source": [
    "### 1 Minutes:\n",
    "\n",
    "Write a function `minutes` that receives three arguments: `day`, `hours` and `minutes`, and returns the total number of minutes.\n",
    "\n",
    "For example, `minutes(day = 15,hrs = 12,mins = 23)`  should return `22343`."
   ]
  },
  {
   "cell_type": "code",
   "execution_count": null,
   "metadata": {},
   "outputs": [],
   "source": []
  },
  {
   "cell_type": "code",
   "execution_count": null,
   "metadata": {},
   "outputs": [],
   "source": []
  }
 ],
 "metadata": {
  "kernelspec": {
   "display_name": "Python 3",
   "language": "python",
   "name": "python3"
  },
  "language_info": {
   "codemirror_mode": {
    "name": "ipython",
    "version": 3
   },
   "file_extension": ".py",
   "mimetype": "text/x-python",
   "name": "python",
   "nbconvert_exporter": "python",
   "pygments_lexer": "ipython3",
   "version": "3.8.8"
  },
  "toc": {
   "base_numbering": 1,
   "nav_menu": {},
   "number_sections": false,
   "sideBar": true,
   "skip_h1_title": false,
   "title_cell": "Table of Contents",
   "title_sidebar": "Contents",
   "toc_cell": false,
   "toc_position": {},
   "toc_section_display": true,
   "toc_window_display": true
  }
 },
 "nbformat": 4,
 "nbformat_minor": 2
}
