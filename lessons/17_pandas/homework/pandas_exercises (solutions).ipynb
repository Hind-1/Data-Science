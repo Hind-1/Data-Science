{
 "cells": [
  {
   "cell_type": "markdown",
   "metadata": {},
   "source": [
    "# Exercises: pandas Series and DataFrames"
   ]
  },
  {
   "cell_type": "code",
   "execution_count": 39,
   "metadata": {},
   "outputs": [],
   "source": [
    "import pandas as pd"
   ]
  },
  {
   "cell_type": "markdown",
   "metadata": {},
   "source": [
    "## Problem 1:\n",
    "\n",
    "Create a Pandas series called `prob1_ser` using a dictionary, that has the country name as index and population as the values.  Here is the data set (from 2017):\n",
    "\n",
    "    * China     1,409,517,397\n",
    "    * India     1,339,180,127\n",
    "    * USA         324,459,463\n",
    "    * Indonesia   263,991,379\n",
    "    * Brazil      209,288,278\n",
    "\n",
    "Give the data a name equal to $Population$."
   ]
  },
  {
   "cell_type": "code",
   "execution_count": 40,
   "metadata": {},
   "outputs": [
    {
     "data": {
      "text/plain": [
       "China        1409517397\n",
       "India        1339180127\n",
       "USA           324459463\n",
       "Indonesia     263991379\n",
       "Brazil        209288278\n",
       "Name: Population, dtype: int64"
      ]
     },
     "execution_count": 40,
     "metadata": {},
     "output_type": "execute_result"
    }
   ],
   "source": [
    "prob1_dict = {\"China\": 1409517397, \"India\": 1339180127, \"USA\": 324459463, \"Indonesia\": 263991379, \"Brazil\": 209288278}\n",
    "prob1_ser = pd.Series(prob1_dict, name='Population') # also ok to do prob1_ser.name = 'Population'\n",
    "prob1_ser"
   ]
  },
  {
   "cell_type": "markdown",
   "metadata": {},
   "source": [
    "## Problem 2:\n",
    "\n",
    "Create a Pandas DataFrame called `prob2_df` using a list of dictionaries that has 3 columns and 5 rows.  The column names are `Country Name`, `Population` and `Size` (which is in $km^2$).\n",
    "\n",
    "      Country Name   Population          Size\n",
    "    \n",
    "    * China\t   1,409,517,397     9,572,900\n",
    "    * India       1,339,180,127     3,287,263\n",
    "    * USA           324,459,463     9,629,091\n",
    "    * Indonesia     263,991,379     1,904,556\n",
    "    * Brazil        209,288,278     8,511,965"
   ]
  },
  {
   "cell_type": "code",
   "execution_count": 41,
   "metadata": {},
   "outputs": [
    {
     "data": {
      "text/html": [
       "<div>\n",
       "<style scoped>\n",
       "    .dataframe tbody tr th:only-of-type {\n",
       "        vertical-align: middle;\n",
       "    }\n",
       "\n",
       "    .dataframe tbody tr th {\n",
       "        vertical-align: top;\n",
       "    }\n",
       "\n",
       "    .dataframe thead th {\n",
       "        text-align: right;\n",
       "    }\n",
       "</style>\n",
       "<table border=\"1\" class=\"dataframe\">\n",
       "  <thead>\n",
       "    <tr style=\"text-align: right;\">\n",
       "      <th></th>\n",
       "      <th>Country Name</th>\n",
       "      <th>Population</th>\n",
       "      <th>Size</th>\n",
       "    </tr>\n",
       "  </thead>\n",
       "  <tbody>\n",
       "    <tr>\n",
       "      <th>0</th>\n",
       "      <td>China</td>\n",
       "      <td>1409517397</td>\n",
       "      <td>9572900</td>\n",
       "    </tr>\n",
       "    <tr>\n",
       "      <th>1</th>\n",
       "      <td>India</td>\n",
       "      <td>1339180127</td>\n",
       "      <td>3287263</td>\n",
       "    </tr>\n",
       "    <tr>\n",
       "      <th>2</th>\n",
       "      <td>USA</td>\n",
       "      <td>324459463</td>\n",
       "      <td>9629091</td>\n",
       "    </tr>\n",
       "    <tr>\n",
       "      <th>3</th>\n",
       "      <td>Indonesia</td>\n",
       "      <td>263991379</td>\n",
       "      <td>1904556</td>\n",
       "    </tr>\n",
       "    <tr>\n",
       "      <th>4</th>\n",
       "      <td>Brazil</td>\n",
       "      <td>209288278</td>\n",
       "      <td>8511965</td>\n",
       "    </tr>\n",
       "  </tbody>\n",
       "</table>\n",
       "</div>"
      ],
      "text/plain": [
       "  Country Name  Population     Size\n",
       "0        China  1409517397  9572900\n",
       "1        India  1339180127  3287263\n",
       "2          USA   324459463  9629091\n",
       "3    Indonesia   263991379  1904556\n",
       "4       Brazil   209288278  8511965"
      ]
     },
     "execution_count": 41,
     "metadata": {},
     "output_type": "execute_result"
    }
   ],
   "source": [
    "prob2_dict = [{\"Country Name\":\"China\", \"Population\" : 1409517397, \"Size\" : 9572900},\n",
    "              {\"Country Name\":\"India\", \"Population\" : 1339180127, \"Size\" : 3287263},\n",
    "              {\"Country Name\":\"USA\", \"Population\" : 324459463, \"Size\" : 9629091},\n",
    "              {\"Country Name\":\"Indonesia\", \"Population\" : 263991379, \"Size\" : 1904556},\n",
    "              {\"Country Name\":\"Brazil\", \"Population\" : 209288278, \"Size\" : 8511965}]\n",
    "prob2_df = pd.DataFrame(prob2_dict)\n",
    "prob2_df"
   ]
  },
  {
   "cell_type": "markdown",
   "metadata": {},
   "source": [
    "## Problem 3:\n",
    "\n",
    "Using the Pandas DataFrame previously created (`prob2_df`), print the:\n",
    "    \n",
    "- Number of rows and columns\n",
    "- Column Names\n",
    "- A sample of 2 rows\n",
    "- A summary of the values"
   ]
  },
  {
   "cell_type": "code",
   "execution_count": 42,
   "metadata": {},
   "outputs": [
    {
     "name": "stdout",
     "output_type": "stream",
     "text": [
      "Number of rows and columns: (5, 3)\n",
      "Column Names: ['Country Name', 'Population', 'Size']\n",
      "Sample: \n",
      "\n",
      "   Country Name  Population     Size\n",
      "4       Brazil   209288278  8511965\n",
      "1        India  1339180127  3287263\n",
      "         Population          Size\n",
      "count  5.000000e+00  5.000000e+00\n",
      "mean   7.092873e+08  6.581155e+06\n",
      "std    6.089883e+08  3.697593e+06\n",
      "min    2.092883e+08  1.904556e+06\n",
      "25%    2.639914e+08  3.287263e+06\n",
      "50%    3.244595e+08  8.511965e+06\n",
      "75%    1.339180e+09  9.572900e+06\n",
      "max    1.409517e+09  9.629091e+06\n"
     ]
    }
   ],
   "source": [
    "print('Number of rows and columns:',prob2_df.shape)\n",
    "print('Column Names:',list(prob2_df.columns))\n",
    "print('Sample: \\n\\n',prob2_df.sample(2))\n",
    "print(prob2_df.describe())"
   ]
  },
  {
   "cell_type": "markdown",
   "metadata": {},
   "source": [
    "## Problem 4:\n",
    "\n",
    "Using the Pandas DataFrame previously created (`prob2_df`), print the:\n",
    "    \n",
    "- Data in the column `Population`\n",
    "- The second row\n",
    "- The size of the country in the last row"
   ]
  },
  {
   "cell_type": "code",
   "execution_count": 43,
   "metadata": {},
   "outputs": [
    {
     "name": "stdout",
     "output_type": "stream",
     "text": [
      "  Country Name  Population     Size\n",
      "0        China  1409517397  9572900\n",
      "1        India  1339180127  3287263\n",
      "2          USA   324459463  9629091\n",
      "3    Indonesia   263991379  1904556\n",
      "4       Brazil   209288278  8511965\n",
      "0    1409517397\n",
      "1    1339180127\n",
      "2     324459463\n",
      "3     263991379\n",
      "4     209288278\n",
      "Name: Population, dtype: int64\n",
      "Country Name         India\n",
      "Population      1339180127\n",
      "Size               3287263\n",
      "Name: 1, dtype: object\n",
      "8511965\n"
     ]
    }
   ],
   "source": [
    "print(prob2_df)\n",
    "print(prob2_df['Population'])\n",
    "print(prob2_df.iloc[1])\n",
    "print(prob2_df.loc[len(prob2_df)-1,'Size'])\n",
    "# prob2_df.iloc[4,2]"
   ]
  },
  {
   "cell_type": "markdown",
   "metadata": {},
   "source": [
    "## Problem 5:\n",
    "\n",
    "Using the Pandas DataFrame previously created (`prob2_df`), print:\n",
    "    \n",
    "- A series that shows True or False for countries with Sizes greater than 3,500,000\n",
    "- A series that shows True or False for countries with Sizes greater than 3,500,000 and Populations smaller than 350,000,000\n",
    "- A data frame that only shows the rows for countries with Sizes greater than 3,500,000 and Populations smaller than 350,000,000"
   ]
  },
  {
   "cell_type": "code",
   "execution_count": 44,
   "metadata": {},
   "outputs": [
    {
     "name": "stdout",
     "output_type": "stream",
     "text": [
      "  Country Name  Population     Size\n",
      "0        China  1409517397  9572900\n",
      "1        India  1339180127  3287263\n",
      "2          USA   324459463  9629091\n",
      "3    Indonesia   263991379  1904556\n",
      "4       Brazil   209288278  8511965\n",
      "0     True\n",
      "1    False\n",
      "2     True\n",
      "3    False\n",
      "4     True\n",
      "Name: Size, dtype: bool\n",
      "0    False\n",
      "1    False\n",
      "2     True\n",
      "3    False\n",
      "4     True\n",
      "dtype: bool\n",
      "  Country Name  Population     Size\n",
      "2          USA   324459463  9629091\n",
      "4       Brazil   209288278  8511965\n"
     ]
    }
   ],
   "source": [
    "print(prob2_df)\n",
    "print(prob2_df['Size']>3500000)\n",
    "tf_series = (prob2_df['Size']>3500000) & (prob2_df['Population']<350000000)\n",
    "print(tf_series)\n",
    "print(prob2_df[tf_series])"
   ]
  },
  {
   "cell_type": "markdown",
   "metadata": {},
   "source": [
    "## Problem 6:\n",
    "\n",
    "Using the Pandas DataFrame previously created (`prob2_df`):\n",
    "    \n",
    "- Change Brazil's population to 250,000,000\n",
    "- Change China's size to 9,580,000"
   ]
  },
  {
   "cell_type": "code",
   "execution_count": 45,
   "metadata": {},
   "outputs": [
    {
     "name": "stdout",
     "output_type": "stream",
     "text": [
      "  Country Name  Population     Size\n",
      "0        China  1409517397  9572900\n",
      "1        India  1339180127  3287263\n",
      "2          USA   324459463  9629091\n",
      "3    Indonesia   263991379  1904556\n",
      "4       Brazil   209288278  8511965\n",
      "  Country Name  Population     Size\n",
      "0        China  1409517397  9572900\n",
      "1        India  1339180127  3287263\n",
      "2          USA   324459463  9629091\n",
      "3    Indonesia   263991379  1904556\n",
      "4       Brazil   250000000  8511965\n",
      "  Country Name  Population     Size\n",
      "0        China  1409517397  9580000\n",
      "1        India  1339180127  3287263\n",
      "2          USA   324459463  9629091\n",
      "3    Indonesia   263991379  1904556\n",
      "4       Brazil   250000000  8511965\n"
     ]
    }
   ],
   "source": [
    "print(prob2_df)\n",
    "\n",
    "prob2_df.loc[prob2_df['Country Name']=='Brazil','Population'] = 250000000\n",
    "# prob2_df.loc[4,'Population'] = 250000000\n",
    "print(prob2_df)\n",
    "\n",
    "prob2_df.loc[prob2_df['Country Name']=='China','Size'] = 9580000\n",
    "print(prob2_df)"
   ]
  },
  {
   "cell_type": "markdown",
   "metadata": {},
   "source": [
    "## Problem 7:\n",
    "\n",
    "Using the Pandas DataFrame previously created (`prob2_df`):\n",
    "    \n",
    "- Rename the indices to the first three letters of each country (e.g. 'Chi', 'Ind', 'USA', etc.) and assign the output to a new data frame called prob7_df"
   ]
  },
  {
   "cell_type": "code",
   "execution_count": 46,
   "metadata": {},
   "outputs": [
    {
     "name": "stdout",
     "output_type": "stream",
     "text": [
      "0 China Chi\n",
      "Chi\n",
      "1 India Ind\n",
      "Ind\n",
      "2 USA USA\n",
      "USA\n",
      "3 Indonesia Ind\n",
      "Ind\n",
      "4 Brazil Bra\n",
      "Bra\n",
      "{0: 'Chi', 1: 'Ind', 2: 'USA', 3: 'Ind', 4: 'Bra'}\n"
     ]
    },
    {
     "data": {
      "text/html": [
       "<div>\n",
       "<style scoped>\n",
       "    .dataframe tbody tr th:only-of-type {\n",
       "        vertical-align: middle;\n",
       "    }\n",
       "\n",
       "    .dataframe tbody tr th {\n",
       "        vertical-align: top;\n",
       "    }\n",
       "\n",
       "    .dataframe thead th {\n",
       "        text-align: right;\n",
       "    }\n",
       "</style>\n",
       "<table border=\"1\" class=\"dataframe\">\n",
       "  <thead>\n",
       "    <tr style=\"text-align: right;\">\n",
       "      <th></th>\n",
       "      <th>Country Name</th>\n",
       "      <th>Population</th>\n",
       "      <th>Size</th>\n",
       "    </tr>\n",
       "  </thead>\n",
       "  <tbody>\n",
       "    <tr>\n",
       "      <th>Chi</th>\n",
       "      <td>China</td>\n",
       "      <td>1409517397</td>\n",
       "      <td>9580000</td>\n",
       "    </tr>\n",
       "    <tr>\n",
       "      <th>Ind</th>\n",
       "      <td>India</td>\n",
       "      <td>1339180127</td>\n",
       "      <td>3287263</td>\n",
       "    </tr>\n",
       "    <tr>\n",
       "      <th>USA</th>\n",
       "      <td>USA</td>\n",
       "      <td>324459463</td>\n",
       "      <td>9629091</td>\n",
       "    </tr>\n",
       "    <tr>\n",
       "      <th>Ind</th>\n",
       "      <td>Indonesia</td>\n",
       "      <td>263991379</td>\n",
       "      <td>1904556</td>\n",
       "    </tr>\n",
       "    <tr>\n",
       "      <th>Bra</th>\n",
       "      <td>Brazil</td>\n",
       "      <td>250000000</td>\n",
       "      <td>8511965</td>\n",
       "    </tr>\n",
       "  </tbody>\n",
       "</table>\n",
       "</div>"
      ],
      "text/plain": [
       "    Country Name  Population     Size\n",
       "Chi        China  1409517397  9580000\n",
       "Ind        India  1339180127  3287263\n",
       "USA          USA   324459463  9629091\n",
       "Ind    Indonesia   263991379  1904556\n",
       "Bra       Brazil   250000000  8511965"
      ]
     },
     "execution_count": 46,
     "metadata": {},
     "output_type": "execute_result"
    }
   ],
   "source": [
    "count_name = list(prob2_df['Country Name'])\n",
    "# print(count_name)\n",
    "\n",
    "count_dict = {}\n",
    "for i, name in enumerate(count_name):\n",
    "    print(i,name,name[0:3])\n",
    "    count_dict[i] = name[0:3]\n",
    "    print(count_dict[i])\n",
    "print(count_dict)\n",
    "\n",
    "prob7_df = prob2_df.rename(count_dict)# map old row index to new row index\n",
    "prob7_df"
   ]
  },
  {
   "cell_type": "markdown",
   "metadata": {},
   "source": [
    "## Problem 8:\n",
    "\n",
    "Using the Pandas DataFrame previously created (`prob7_df`):\n",
    "    \n",
    "- Drop China from the data frame\n",
    "- Add a new country at the bottom (Russia, Population = 143,989,754, Size = 17,098,246\n",
    "- Save the answer on prob8_df"
   ]
  },
  {
   "cell_type": "code",
   "execution_count": 47,
   "metadata": {},
   "outputs": [
    {
     "name": "stdout",
     "output_type": "stream",
     "text": [
      "    Country Name  Population     Size\n",
      "Ind        India  1339180127  3287263\n",
      "USA          USA   324459463  9629091\n",
      "Ind    Indonesia   263991379  1904556\n",
      "Bra       Brazil   250000000  8511965\n",
      "    Country Name  Population      Size\n",
      "Ind        India  1339180127   3287263\n",
      "USA          USA   324459463   9629091\n",
      "Ind    Indonesia   263991379   1904556\n",
      "Bra       Brazil   250000000   8511965\n",
      "Rus       Russia   143989754  17098246\n"
     ]
    }
   ],
   "source": [
    "prob8_df = prob7_df.drop('Chi')\n",
    "print(prob8_df)\n",
    "\n",
    "prob8_df.loc[\"Rus\"] = [\"Russia\", 143989754, 17098246]\n",
    "print(prob8_df)"
   ]
  },
  {
   "cell_type": "markdown",
   "metadata": {},
   "source": [
    "## Problem 9:\n",
    "\n",
    "Using the Pandas DataFrame previously created (`prob8_df`):\n",
    "    \n",
    "    * Sort by Population ascending and in place"
   ]
  },
  {
   "cell_type": "code",
   "execution_count": 48,
   "metadata": {},
   "outputs": [
    {
     "name": "stdout",
     "output_type": "stream",
     "text": [
      "    Country Name  Population      Size\n",
      "Rus       Russia   143989754  17098246\n",
      "Bra       Brazil   250000000   8511965\n",
      "Ind    Indonesia   263991379   1904556\n",
      "USA          USA   324459463   9629091\n",
      "Ind        India  1339180127   3287263\n"
     ]
    }
   ],
   "source": [
    "prob8_df.sort_values(by = \"Population\", ascending = True, inplace = True) \n",
    "print(prob8_df)"
   ]
  },
  {
   "cell_type": "markdown",
   "metadata": {},
   "source": [
    "## Problem 10:\n",
    "\n",
    "Using the Pandas DataFrame previously created (`prob8_df`):\n",
    "    \n",
    "    * Rename the columns as \"Count\", \"Pop\" and \"Area\"\"\n",
    "    * Add a new column called \"Pop/Area\" and has as values the ratio of the Population over the Area"
   ]
  },
  {
   "cell_type": "code",
   "execution_count": 49,
   "metadata": {},
   "outputs": [
    {
     "name": "stdout",
     "output_type": "stream",
     "text": [
      "         Count         Pop      Area\n",
      "Rus     Russia   143989754  17098246\n",
      "Bra     Brazil   250000000   8511965\n",
      "Ind  Indonesia   263991379   1904556\n",
      "USA        USA   324459463   9629091\n",
      "Ind      India  1339180127   3287263\n"
     ]
    },
    {
     "data": {
      "text/html": [
       "<div>\n",
       "<style scoped>\n",
       "    .dataframe tbody tr th:only-of-type {\n",
       "        vertical-align: middle;\n",
       "    }\n",
       "\n",
       "    .dataframe tbody tr th {\n",
       "        vertical-align: top;\n",
       "    }\n",
       "\n",
       "    .dataframe thead th {\n",
       "        text-align: right;\n",
       "    }\n",
       "</style>\n",
       "<table border=\"1\" class=\"dataframe\">\n",
       "  <thead>\n",
       "    <tr style=\"text-align: right;\">\n",
       "      <th></th>\n",
       "      <th>Count</th>\n",
       "      <th>Pop</th>\n",
       "      <th>Area</th>\n",
       "      <th>(0, Pop/Area)</th>\n",
       "    </tr>\n",
       "  </thead>\n",
       "  <tbody>\n",
       "    <tr>\n",
       "      <th>Rus</th>\n",
       "      <td>Russia</td>\n",
       "      <td>143989754</td>\n",
       "      <td>17098246</td>\n",
       "      <td>8.421317</td>\n",
       "    </tr>\n",
       "    <tr>\n",
       "      <th>Bra</th>\n",
       "      <td>Brazil</td>\n",
       "      <td>250000000</td>\n",
       "      <td>8511965</td>\n",
       "      <td>29.370422</td>\n",
       "    </tr>\n",
       "    <tr>\n",
       "      <th>Ind</th>\n",
       "      <td>Indonesia</td>\n",
       "      <td>263991379</td>\n",
       "      <td>1904556</td>\n",
       "      <td>138.610458</td>\n",
       "    </tr>\n",
       "    <tr>\n",
       "      <th>USA</th>\n",
       "      <td>USA</td>\n",
       "      <td>324459463</td>\n",
       "      <td>9629091</td>\n",
       "      <td>33.695752</td>\n",
       "    </tr>\n",
       "    <tr>\n",
       "      <th>Ind</th>\n",
       "      <td>India</td>\n",
       "      <td>1339180127</td>\n",
       "      <td>3287263</td>\n",
       "      <td>407.384541</td>\n",
       "    </tr>\n",
       "  </tbody>\n",
       "</table>\n",
       "</div>"
      ],
      "text/plain": [
       "         Count         Pop      Area  (0, Pop/Area)\n",
       "Rus     Russia   143989754  17098246       8.421317\n",
       "Bra     Brazil   250000000   8511965      29.370422\n",
       "Ind  Indonesia   263991379   1904556     138.610458\n",
       "USA        USA   324459463   9629091      33.695752\n",
       "Ind      India  1339180127   3287263     407.384541"
      ]
     },
     "execution_count": 49,
     "metadata": {},
     "output_type": "execute_result"
    }
   ],
   "source": [
    "prob8_df.columns = [\"Count\", \"Pop\", \"Area\"]\n",
    "print(prob8_df)\n",
    "\n",
    "prob8_df[0,'Pop/Area'] = prob8_df['Pop']/prob8_df['Area']\n",
    "prob8_df"
   ]
  },
  {
   "cell_type": "code",
   "execution_count": null,
   "metadata": {},
   "outputs": [],
   "source": []
  }
 ],
 "metadata": {
  "kernelspec": {
   "display_name": "Python 3",
   "language": "python",
   "name": "python3"
  },
  "language_info": {
   "codemirror_mode": {
    "name": "ipython",
    "version": 3
   },
   "file_extension": ".py",
   "mimetype": "text/x-python",
   "name": "python",
   "nbconvert_exporter": "python",
   "pygments_lexer": "ipython3",
   "version": "3.8.8"
  },
  "toc": {
   "base_numbering": 1,
   "nav_menu": {},
   "number_sections": true,
   "sideBar": true,
   "skip_h1_title": false,
   "title_cell": "Table of Contents",
   "title_sidebar": "Contents",
   "toc_cell": false,
   "toc_position": {},
   "toc_section_display": true,
   "toc_window_display": false
  }
 },
 "nbformat": 4,
 "nbformat_minor": 2
}
