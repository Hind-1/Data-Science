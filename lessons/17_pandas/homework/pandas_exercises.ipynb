{
 "cells": [
  {
   "cell_type": "markdown",
   "metadata": {},
   "source": [
    "# Exercises: pandas Series and DataFrames"
   ]
  },
  {
   "cell_type": "code",
   "execution_count": 98,
   "metadata": {},
   "outputs": [],
   "source": [
    "import pandas as pd\n",
    "import numpy as np"
   ]
  },
  {
   "cell_type": "markdown",
   "metadata": {},
   "source": [
    "## Problem 1:\n",
    "\n",
    "Create a Pandas series called `prob1_ser` using a dictionary, that has the country name as index and population as the values.  Here is the data set (from 2017):\n",
    "\n",
    "    * China     1,409,517,397\n",
    "    * India     1,339,180,127\n",
    "    * USA         324,459,463\n",
    "    * Indonesia   263,991,379\n",
    "    * Brazil      209,288,278\n",
    "\n",
    "Give the data a name equal to $Population$."
   ]
  },
  {
   "cell_type": "code",
   "execution_count": 99,
   "metadata": {},
   "outputs": [
    {
     "data": {
      "text/plain": [
       "china        1409517397\n",
       "India         139180127\n",
       "USA           324459463\n",
       "Indonesia     263991379\n",
       "Brazil         20928278\n",
       "Name: Population, dtype: int64"
      ]
     },
     "execution_count": 99,
     "metadata": {},
     "output_type": "execute_result"
    }
   ],
   "source": [
    "# prob1_ser=pd.Series(index=['china','India','USA','Indonesia','Brazil'],data=[1,2,3,4,5])\n",
    "# prob1_ser\n",
    "dic={'china':1409517397,'India':139180127,'USA':324459463,\n",
    "     'Indonesia':263991379,'Brazil':20928278,\n",
    "}\n",
    "prob1_ser=pd.Series(dic,name=\"Population\")\n",
    "prob1_ser"
   ]
  },
  {
   "cell_type": "markdown",
   "metadata": {},
   "source": [
    "## Problem 2:\n",
    "\n",
    "Create a Pandas DataFrame called `prob2_df` using a list of dictionaries that has 3 columns and 5 rows.  The column names are `Country Name`, `Population` and `Size` (which is in $km^2$).\n",
    "\n",
    "      Country Name   Population          Size\n",
    "    \n",
    "    * China\t   1,409,517,397     9,572,900\n",
    "    * India       1,339,180,127     3,287,263\n",
    "    * USA           324,459,463     9,629,091\n",
    "    * Indonesia     263,991,379     1,904,556\n",
    "    * Brazil        209,288,278     8,511,965"
   ]
  },
  {
   "cell_type": "code",
   "execution_count": 100,
   "metadata": {},
   "outputs": [
    {
     "data": {
      "text/html": [
       "<div>\n",
       "<style scoped>\n",
       "    .dataframe tbody tr th:only-of-type {\n",
       "        vertical-align: middle;\n",
       "    }\n",
       "\n",
       "    .dataframe tbody tr th {\n",
       "        vertical-align: top;\n",
       "    }\n",
       "\n",
       "    .dataframe thead th {\n",
       "        text-align: right;\n",
       "    }\n",
       "</style>\n",
       "<table border=\"1\" class=\"dataframe\">\n",
       "  <thead>\n",
       "    <tr style=\"text-align: right;\">\n",
       "      <th></th>\n",
       "      <th>country_name</th>\n",
       "      <th>Population</th>\n",
       "      <th>Size</th>\n",
       "    </tr>\n",
       "  </thead>\n",
       "  <tbody>\n",
       "    <tr>\n",
       "      <th>0</th>\n",
       "      <td>China</td>\n",
       "      <td>1409517397</td>\n",
       "      <td>20928278</td>\n",
       "    </tr>\n",
       "    <tr>\n",
       "      <th>1</th>\n",
       "      <td>India</td>\n",
       "      <td>14</td>\n",
       "      <td>20000090028278</td>\n",
       "    </tr>\n",
       "    <tr>\n",
       "      <th>2</th>\n",
       "      <td>USA</td>\n",
       "      <td>14095107397</td>\n",
       "      <td>20928278</td>\n",
       "    </tr>\n",
       "    <tr>\n",
       "      <th>3</th>\n",
       "      <td>Indonesia</td>\n",
       "      <td>1409517397</td>\n",
       "      <td>20928278</td>\n",
       "    </tr>\n",
       "    <tr>\n",
       "      <th>4</th>\n",
       "      <td>Brazil</td>\n",
       "      <td>1497</td>\n",
       "      <td>20920008278</td>\n",
       "    </tr>\n",
       "  </tbody>\n",
       "</table>\n",
       "</div>"
      ],
      "text/plain": [
       "  country_name   Population            Size\n",
       "0        China   1409517397        20928278\n",
       "1        India           14  20000090028278\n",
       "2          USA  14095107397        20928278\n",
       "3    Indonesia   1409517397        20928278\n",
       "4       Brazil         1497     20920008278"
      ]
     },
     "execution_count": 100,
     "metadata": {},
     "output_type": "execute_result"
    }
   ],
   "source": [
    "# prob2_df=pd.DataFrame({\"country name\":[\"China\",\"India\", \"USA\",\"Indonesia\",\"Brazil\"],\n",
    "#                        \"Population\":[1409517397,139180127,324459463,90480432804,20928278],\n",
    "#                        \"Size\": [20928278,9240492,803508508,93493434,4838430834]})\n",
    "# This is df of dictionarie.\n",
    "\n",
    "Population_dic=[{\"country_name\":\"China\",\"Population\":1409517397,\"Size\":20928278},\n",
    "{\"country_name\":\"India\",\"Population\":14,\"Size\":20000090028278},         \n",
    "{\"country_name\":\"USA\",\"Population\":14095107397,\"Size\":20928278}, \n",
    "{\"country_name\":\"Indonesia\",\"Population\":1409517397,\"Size\":20928278},\n",
    "{\"country_name\":\"Brazil\",\"Population\":1497,\"Size\":20920008278},\n",
    "]\n",
    "# This is df using list of dictionaries\n",
    "prob2_df=pd.DataFrame(Population_dic)\n",
    "prob2_df"
   ]
  },
  {
   "cell_type": "markdown",
   "metadata": {},
   "source": [
    "## Problem 3:\n",
    "\n",
    "Using the Pandas DataFrame previously created (`prob2_df`), print the:\n",
    "    \n",
    "- Number of rows and columns\n",
    "- Column Names\n",
    "- A sample of 2 rows\n",
    "- A summary of the values"
   ]
  },
  {
   "cell_type": "markdown",
   "metadata": {},
   "source": [
    " Suppose we have pandas DataFrame: \n",
    " 1) Find all column names\n",
    " 2) Take the first 25 rows\n",
    " 3) Take the last row\n",
    " 4) Take the column with name “captain_id”\n",
    " 5) Take only unique values from “trip_id”\n",
    " 6) Find all rows which have “trip_price” grater than 16 and “distance_travaled” less than 3"
   ]
  },
  {
   "cell_type": "code",
   "execution_count": 101,
   "metadata": {},
   "outputs": [
    {
     "data": {
      "text/plain": [
       "(1, 2, 3, 4, 5, 6)"
      ]
     },
     "execution_count": 101,
     "metadata": {},
     "output_type": "execute_result"
    }
   ],
   "source": [
    "1,2,3,4,5,6"
   ]
  },
  {
   "cell_type": "code",
   "execution_count": 102,
   "metadata": {},
   "outputs": [
    {
     "data": {
      "text/html": [
       "<div>\n",
       "<style scoped>\n",
       "    .dataframe tbody tr th:only-of-type {\n",
       "        vertical-align: middle;\n",
       "    }\n",
       "\n",
       "    .dataframe tbody tr th {\n",
       "        vertical-align: top;\n",
       "    }\n",
       "\n",
       "    .dataframe thead th {\n",
       "        text-align: right;\n",
       "    }\n",
       "</style>\n",
       "<table border=\"1\" class=\"dataframe\">\n",
       "  <thead>\n",
       "    <tr style=\"text-align: right;\">\n",
       "      <th></th>\n",
       "      <th>country_name</th>\n",
       "      <th>Population</th>\n",
       "      <th>Size</th>\n",
       "    </tr>\n",
       "  </thead>\n",
       "  <tbody>\n",
       "    <tr>\n",
       "      <th>0</th>\n",
       "      <td>China</td>\n",
       "      <td>1409517397</td>\n",
       "      <td>20928278</td>\n",
       "    </tr>\n",
       "    <tr>\n",
       "      <th>1</th>\n",
       "      <td>India</td>\n",
       "      <td>14</td>\n",
       "      <td>20000090028278</td>\n",
       "    </tr>\n",
       "    <tr>\n",
       "      <th>2</th>\n",
       "      <td>USA</td>\n",
       "      <td>14095107397</td>\n",
       "      <td>20928278</td>\n",
       "    </tr>\n",
       "    <tr>\n",
       "      <th>3</th>\n",
       "      <td>Indonesia</td>\n",
       "      <td>1409517397</td>\n",
       "      <td>20928278</td>\n",
       "    </tr>\n",
       "    <tr>\n",
       "      <th>4</th>\n",
       "      <td>Brazil</td>\n",
       "      <td>1497</td>\n",
       "      <td>20920008278</td>\n",
       "    </tr>\n",
       "  </tbody>\n",
       "</table>\n",
       "</div>"
      ],
      "text/plain": [
       "  country_name   Population            Size\n",
       "0        China   1409517397        20928278\n",
       "1        India           14  20000090028278\n",
       "2          USA  14095107397        20928278\n",
       "3    Indonesia   1409517397        20928278\n",
       "4       Brazil         1497     20920008278"
      ]
     },
     "execution_count": 102,
     "metadata": {},
     "output_type": "execute_result"
    }
   ],
   "source": [
    "# prob2_df.shape\n",
    "# prob2_df.columns\n",
    "prob2_df.head(5)\n",
    "# print('Number of rows and columns:',prob2_df.shape)\n",
    "# print('Column Names:',list(prob2_df.columns))\n",
    "# print('Sample:\\n\\n',prob2_df.sample(2))\n"
   ]
  },
  {
   "cell_type": "markdown",
   "metadata": {},
   "source": [
    "## Problem 4:\n",
    "\n",
    "Using the Pandas DataFrame previously created (`prob2_df`), print the:\n",
    "    \n",
    "- Data in the column `Population`\n",
    "- The second row\n",
    "- The size of the country in the last row"
   ]
  },
  {
   "cell_type": "code",
   "execution_count": 103,
   "metadata": {},
   "outputs": [
    {
     "name": "stdout",
     "output_type": "stream",
     "text": [
      "0     1409517397\n",
      "1             14\n",
      "2    14095107397\n",
      "3     1409517397\n",
      "4           1497\n",
      "Name: Population, dtype: int64\n"
     ]
    }
   ],
   "source": [
    "# print(\"Data in the column:\\n \",prob2_df.Population)\n",
    "# print('The second row: \\n',prob2_df.iloc[1:2])\n",
    "# print(\"The size of the country in the last row :\\n\",prob2_df.loc[len(prob2_df)-1,'Size'])\n",
    "\n",
    "\n",
    "# print(prob2_df)\n",
    "print(prob2_df['Population'])\n",
    "# print(prob2_df.iloc[1])\n",
    "# print(prob2_df.loc[len(prob2_df)-1,'Size'])\n",
    "# prob2_df.iloc[4,2]"
   ]
  },
  {
   "cell_type": "markdown",
   "metadata": {},
   "source": [
    "## Problem 5:\n",
    "\n",
    "Using the Pandas DataFrame previously created (`prob2_df`), print:\n",
    "    \n",
    "- A series that shows True or False for countries with Sizes greater than 3,500,000\n",
    "- A series that shows True or False for countries with Sizes greater than 3,500,000 and Populations smaller than 350,000,000\n",
    "- A data frame that only shows the rows for countries with Sizes greater than 3,500,000 and Populations smaller than 350,000,000"
   ]
  },
  {
   "cell_type": "code",
   "execution_count": 104,
   "metadata": {},
   "outputs": [
    {
     "data": {
      "text/html": [
       "<div>\n",
       "<style scoped>\n",
       "    .dataframe tbody tr th:only-of-type {\n",
       "        vertical-align: middle;\n",
       "    }\n",
       "\n",
       "    .dataframe tbody tr th {\n",
       "        vertical-align: top;\n",
       "    }\n",
       "\n",
       "    .dataframe thead th {\n",
       "        text-align: right;\n",
       "    }\n",
       "</style>\n",
       "<table border=\"1\" class=\"dataframe\">\n",
       "  <thead>\n",
       "    <tr style=\"text-align: right;\">\n",
       "      <th></th>\n",
       "      <th>country_name</th>\n",
       "      <th>Population</th>\n",
       "      <th>Size</th>\n",
       "    </tr>\n",
       "  </thead>\n",
       "  <tbody>\n",
       "    <tr>\n",
       "      <th>1</th>\n",
       "      <td>India</td>\n",
       "      <td>14</td>\n",
       "      <td>20000090028278</td>\n",
       "    </tr>\n",
       "    <tr>\n",
       "      <th>4</th>\n",
       "      <td>Brazil</td>\n",
       "      <td>1497</td>\n",
       "      <td>20920008278</td>\n",
       "    </tr>\n",
       "  </tbody>\n",
       "</table>\n",
       "</div>"
      ],
      "text/plain": [
       "  country_name  Population            Size\n",
       "1        India          14  20000090028278\n",
       "4       Brazil        1497     20920008278"
      ]
     },
     "execution_count": 104,
     "metadata": {},
     "output_type": "execute_result"
    }
   ],
   "source": [
    "# print(prob2_df.Size>35000000)\n",
    "# print((prob2_df.Size>35000000) & (prob2_df.Population<350000000))\n",
    "x=(prob2_df.Size>350000)&(prob2_df.Population<39832980)\n",
    "prob2_df[x]\n"
   ]
  },
  {
   "cell_type": "markdown",
   "metadata": {},
   "source": [
    "## Problem 6:\n",
    "\n",
    "Using the Pandas DataFrame previously created (`prob2_df`):\n",
    "    \n",
    "- Change Brazil's population to 250,000,000\n",
    "- Change China's size to 9,580,000"
   ]
  },
  {
   "cell_type": "code",
   "execution_count": 105,
   "metadata": {},
   "outputs": [
    {
     "data": {
      "text/html": [
       "<div>\n",
       "<style scoped>\n",
       "    .dataframe tbody tr th:only-of-type {\n",
       "        vertical-align: middle;\n",
       "    }\n",
       "\n",
       "    .dataframe tbody tr th {\n",
       "        vertical-align: top;\n",
       "    }\n",
       "\n",
       "    .dataframe thead th {\n",
       "        text-align: right;\n",
       "    }\n",
       "</style>\n",
       "<table border=\"1\" class=\"dataframe\">\n",
       "  <thead>\n",
       "    <tr style=\"text-align: right;\">\n",
       "      <th></th>\n",
       "      <th>country_name</th>\n",
       "      <th>Population</th>\n",
       "      <th>Size</th>\n",
       "    </tr>\n",
       "  </thead>\n",
       "  <tbody>\n",
       "    <tr>\n",
       "      <th>0</th>\n",
       "      <td>China</td>\n",
       "      <td>1409517397</td>\n",
       "      <td>20928278</td>\n",
       "    </tr>\n",
       "    <tr>\n",
       "      <th>1</th>\n",
       "      <td>India</td>\n",
       "      <td>14</td>\n",
       "      <td>20000090028278</td>\n",
       "    </tr>\n",
       "    <tr>\n",
       "      <th>2</th>\n",
       "      <td>USA</td>\n",
       "      <td>14095107397</td>\n",
       "      <td>20928278</td>\n",
       "    </tr>\n",
       "    <tr>\n",
       "      <th>3</th>\n",
       "      <td>Indonesia</td>\n",
       "      <td>1409517397</td>\n",
       "      <td>20928278</td>\n",
       "    </tr>\n",
       "    <tr>\n",
       "      <th>4</th>\n",
       "      <td>Brazil</td>\n",
       "      <td>25000</td>\n",
       "      <td>20920008278</td>\n",
       "    </tr>\n",
       "  </tbody>\n",
       "</table>\n",
       "</div>"
      ],
      "text/plain": [
       "  country_name   Population            Size\n",
       "0        China   1409517397        20928278\n",
       "1        India           14  20000090028278\n",
       "2          USA  14095107397        20928278\n",
       "3    Indonesia   1409517397        20928278\n",
       "4       Brazil        25000     20920008278"
      ]
     },
     "execution_count": 105,
     "metadata": {},
     "output_type": "execute_result"
    }
   ],
   "source": [
    "prob2_df.loc[4,'Population']=25000\n",
    "prob2_df\n",
    "# prob2_df['country_name']==Brazil\n",
    "# prob2_df.rename(columns={})\n",
    "# prob2_df.rename(columns={'age':'Hi'} ,inplace=False)\n",
    "# prob2_df.rename(columns={'Hi':'country_nam'} ,inplace=True)"
   ]
  },
  {
   "cell_type": "markdown",
   "metadata": {},
   "source": [
    "## Problem 7:\n",
    "\n",
    "Using the Pandas DataFrame previously created (`prob2_df`):\n",
    "    \n",
    "- Rename the indices to the first three letters of each country (e.g. 'Chi', 'Ind', 'USA', etc.) and assign the output to a new data frame called prob7_df"
   ]
  },
  {
   "cell_type": "code",
   "execution_count": 106,
   "metadata": {},
   "outputs": [
    {
     "name": "stdout",
     "output_type": "stream",
     "text": [
      "{0: 'Chi', 1: 'Ind', 2: 'USA', 3: 'Ind', 4: 'Bra'}\n"
     ]
    },
    {
     "data": {
      "text/html": [
       "<div>\n",
       "<style scoped>\n",
       "    .dataframe tbody tr th:only-of-type {\n",
       "        vertical-align: middle;\n",
       "    }\n",
       "\n",
       "    .dataframe tbody tr th {\n",
       "        vertical-align: top;\n",
       "    }\n",
       "\n",
       "    .dataframe thead th {\n",
       "        text-align: right;\n",
       "    }\n",
       "</style>\n",
       "<table border=\"1\" class=\"dataframe\">\n",
       "  <thead>\n",
       "    <tr style=\"text-align: right;\">\n",
       "      <th></th>\n",
       "      <th>country_name</th>\n",
       "      <th>Population</th>\n",
       "      <th>Size</th>\n",
       "    </tr>\n",
       "  </thead>\n",
       "  <tbody>\n",
       "    <tr>\n",
       "      <th>Chi</th>\n",
       "      <td>China</td>\n",
       "      <td>1409517397</td>\n",
       "      <td>20928278</td>\n",
       "    </tr>\n",
       "    <tr>\n",
       "      <th>Ind</th>\n",
       "      <td>India</td>\n",
       "      <td>14</td>\n",
       "      <td>20000090028278</td>\n",
       "    </tr>\n",
       "    <tr>\n",
       "      <th>USA</th>\n",
       "      <td>USA</td>\n",
       "      <td>14095107397</td>\n",
       "      <td>20928278</td>\n",
       "    </tr>\n",
       "    <tr>\n",
       "      <th>Ind</th>\n",
       "      <td>Indonesia</td>\n",
       "      <td>1409517397</td>\n",
       "      <td>20928278</td>\n",
       "    </tr>\n",
       "    <tr>\n",
       "      <th>Bra</th>\n",
       "      <td>Brazil</td>\n",
       "      <td>1497</td>\n",
       "      <td>20920008278</td>\n",
       "    </tr>\n",
       "  </tbody>\n",
       "</table>\n",
       "</div>"
      ],
      "text/plain": [
       "    country_name   Population            Size\n",
       "Chi        China   1409517397        20928278\n",
       "Ind        India           14  20000090028278\n",
       "USA          USA  14095107397        20928278\n",
       "Ind    Indonesia   1409517397        20928278\n",
       "Bra       Brazil         1497     20920008278"
      ]
     },
     "execution_count": 106,
     "metadata": {},
     "output_type": "execute_result"
    }
   ],
   "source": [
    "\n",
    "prob7_df=pd.DataFrame(Population_dic)\n",
    "u={}\n",
    "for i in range(len(Population_dic)):\n",
    "    u[i]=Population_dic[i]['country_name'][0:3]\n",
    "print(u)\n",
    "prob7_df =prob7_df.rename(u,axis='index')\n",
    "prob7_df\n"
   ]
  },
  {
   "cell_type": "markdown",
   "metadata": {},
   "source": [
    "## Problem 8:\n",
    "\n",
    "Using the Pandas DataFrame previously created (`prob7_df`):\n",
    "    \n",
    "- Drop China from the data frame\n",
    "- Add a new country at the bottom (Russia, Population = 143,989,754, Size = 17,098,246\n",
    "- Save the answer on prob8_df"
   ]
  },
  {
   "cell_type": "code",
   "execution_count": 113,
   "metadata": {},
   "outputs": [
    {
     "data": {
      "text/html": [
       "<div>\n",
       "<style scoped>\n",
       "    .dataframe tbody tr th:only-of-type {\n",
       "        vertical-align: middle;\n",
       "    }\n",
       "\n",
       "    .dataframe tbody tr th {\n",
       "        vertical-align: top;\n",
       "    }\n",
       "\n",
       "    .dataframe thead th {\n",
       "        text-align: right;\n",
       "    }\n",
       "</style>\n",
       "<table border=\"1\" class=\"dataframe\">\n",
       "  <thead>\n",
       "    <tr style=\"text-align: right;\">\n",
       "      <th></th>\n",
       "      <th>country_name</th>\n",
       "      <th>Population</th>\n",
       "      <th>Size</th>\n",
       "    </tr>\n",
       "  </thead>\n",
       "  <tbody>\n",
       "    <tr>\n",
       "      <th>0</th>\n",
       "      <td>China</td>\n",
       "      <td>1409517397</td>\n",
       "      <td>20928278</td>\n",
       "    </tr>\n",
       "    <tr>\n",
       "      <th>1</th>\n",
       "      <td>India</td>\n",
       "      <td>14</td>\n",
       "      <td>20000090028278</td>\n",
       "    </tr>\n",
       "    <tr>\n",
       "      <th>2</th>\n",
       "      <td>USA</td>\n",
       "      <td>14095107397</td>\n",
       "      <td>20928278</td>\n",
       "    </tr>\n",
       "    <tr>\n",
       "      <th>3</th>\n",
       "      <td>Indonesia</td>\n",
       "      <td>1409517397</td>\n",
       "      <td>20928278</td>\n",
       "    </tr>\n",
       "    <tr>\n",
       "      <th>4</th>\n",
       "      <td>Brazil</td>\n",
       "      <td>1497</td>\n",
       "      <td>20920008278</td>\n",
       "    </tr>\n",
       "    <tr>\n",
       "      <th>5</th>\n",
       "      <td>Russia</td>\n",
       "      <td>143989754</td>\n",
       "      <td>17</td>\n",
       "    </tr>\n",
       "  </tbody>\n",
       "</table>\n",
       "</div>"
      ],
      "text/plain": [
       "  country_name   Population            Size\n",
       "0        China   1409517397        20928278\n",
       "1        India           14  20000090028278\n",
       "2          USA  14095107397        20928278\n",
       "3    Indonesia   1409517397        20928278\n",
       "4       Brazil         1497     20920008278\n",
       "5       Russia    143989754              17"
      ]
     },
     "execution_count": 113,
     "metadata": {},
     "output_type": "execute_result"
    }
   ],
   "source": [
    "prob8_df=prob7_df.drop(['Chi'])\n",
    "prob8_df\n",
    "add={'country_name':'Russia','Population':143989754,'Size':17}\n",
    "prob8_df=prob7_df.append(add, ignore_index=True)\n",
    "prob8_df"
   ]
  },
  {
   "cell_type": "markdown",
   "metadata": {},
   "source": [
    "## Problem 9:\n",
    "\n",
    "Using the Pandas DataFrame previously created (`prob8_df`):\n",
    "    \n",
    "    * Sort by Population ascending and in place"
   ]
  },
  {
   "cell_type": "code",
   "execution_count": 79,
   "metadata": {},
   "outputs": [
    {
     "data": {
      "text/html": [
       "<div>\n",
       "<style scoped>\n",
       "    .dataframe tbody tr th:only-of-type {\n",
       "        vertical-align: middle;\n",
       "    }\n",
       "\n",
       "    .dataframe tbody tr th {\n",
       "        vertical-align: top;\n",
       "    }\n",
       "\n",
       "    .dataframe thead th {\n",
       "        text-align: right;\n",
       "    }\n",
       "</style>\n",
       "<table border=\"1\" class=\"dataframe\">\n",
       "  <thead>\n",
       "    <tr style=\"text-align: right;\">\n",
       "      <th></th>\n",
       "      <th>country_name</th>\n",
       "      <th>Population</th>\n",
       "      <th>Size</th>\n",
       "    </tr>\n",
       "  </thead>\n",
       "  <tbody>\n",
       "    <tr>\n",
       "      <th>0</th>\n",
       "      <td>India</td>\n",
       "      <td>14</td>\n",
       "      <td>20000090028278</td>\n",
       "    </tr>\n",
       "    <tr>\n",
       "      <th>3</th>\n",
       "      <td>Brazil</td>\n",
       "      <td>1497</td>\n",
       "      <td>20920008278</td>\n",
       "    </tr>\n",
       "    <tr>\n",
       "      <th>4</th>\n",
       "      <td>Russia</td>\n",
       "      <td>143989754</td>\n",
       "      <td>17</td>\n",
       "    </tr>\n",
       "    <tr>\n",
       "      <th>2</th>\n",
       "      <td>Indonesia</td>\n",
       "      <td>1409517397</td>\n",
       "      <td>20928278</td>\n",
       "    </tr>\n",
       "    <tr>\n",
       "      <th>1</th>\n",
       "      <td>USA</td>\n",
       "      <td>14095107397</td>\n",
       "      <td>20928278</td>\n",
       "    </tr>\n",
       "  </tbody>\n",
       "</table>\n",
       "</div>"
      ],
      "text/plain": [
       "  country_name   Population            Size\n",
       "0        India           14  20000090028278\n",
       "3       Brazil         1497     20920008278\n",
       "4       Russia    143989754              17\n",
       "2    Indonesia   1409517397        20928278\n",
       "1          USA  14095107397        20928278"
      ]
     },
     "execution_count": 79,
     "metadata": {},
     "output_type": "execute_result"
    }
   ],
   "source": [
    "prob8_df.sort_values(by=['Population'])"
   ]
  },
  {
   "cell_type": "markdown",
   "metadata": {},
   "source": [
    "## Problem 10:\n",
    "\n",
    "Using the Pandas DataFrame previously created (`prob8_df`):\n",
    "    \n",
    "    * Rename the columns as \"Count\", \"Pop\" and \"Area\"\"\n",
    "    * Add a new column called \"Pop/Area\" and has as values the ratio of the Population over the Area"
   ]
  },
  {
   "cell_type": "code",
   "execution_count": 81,
   "metadata": {},
   "outputs": [
    {
     "data": {
      "text/html": [
       "<div>\n",
       "<style scoped>\n",
       "    .dataframe tbody tr th:only-of-type {\n",
       "        vertical-align: middle;\n",
       "    }\n",
       "\n",
       "    .dataframe tbody tr th {\n",
       "        vertical-align: top;\n",
       "    }\n",
       "\n",
       "    .dataframe thead th {\n",
       "        text-align: right;\n",
       "    }\n",
       "</style>\n",
       "<table border=\"1\" class=\"dataframe\">\n",
       "  <thead>\n",
       "    <tr style=\"text-align: right;\">\n",
       "      <th></th>\n",
       "      <th>Count</th>\n",
       "      <th>Pop</th>\n",
       "      <th>Area</th>\n",
       "    </tr>\n",
       "  </thead>\n",
       "  <tbody>\n",
       "    <tr>\n",
       "      <th>0</th>\n",
       "      <td>India</td>\n",
       "      <td>14</td>\n",
       "      <td>20000090028278</td>\n",
       "    </tr>\n",
       "    <tr>\n",
       "      <th>1</th>\n",
       "      <td>USA</td>\n",
       "      <td>14095107397</td>\n",
       "      <td>20928278</td>\n",
       "    </tr>\n",
       "    <tr>\n",
       "      <th>2</th>\n",
       "      <td>Indonesia</td>\n",
       "      <td>1409517397</td>\n",
       "      <td>20928278</td>\n",
       "    </tr>\n",
       "    <tr>\n",
       "      <th>3</th>\n",
       "      <td>Brazil</td>\n",
       "      <td>1497</td>\n",
       "      <td>20920008278</td>\n",
       "    </tr>\n",
       "    <tr>\n",
       "      <th>4</th>\n",
       "      <td>Russia</td>\n",
       "      <td>143989754</td>\n",
       "      <td>17</td>\n",
       "    </tr>\n",
       "  </tbody>\n",
       "</table>\n",
       "</div>"
      ],
      "text/plain": [
       "       Count          Pop            Area\n",
       "0      India           14  20000090028278\n",
       "1        USA  14095107397        20928278\n",
       "2  Indonesia   1409517397        20928278\n",
       "3     Brazil         1497     20920008278\n",
       "4     Russia    143989754              17"
      ]
     },
     "execution_count": 81,
     "metadata": {},
     "output_type": "execute_result"
    }
   ],
   "source": [
    "prob8_df.rename(columns={'country_name':'Count','Population':'Pop','Size':'Area'})\n"
   ]
  },
  {
   "cell_type": "code",
   "execution_count": null,
   "metadata": {},
   "outputs": [],
   "source": []
  }
 ],
 "metadata": {
  "kernelspec": {
   "display_name": "Python 3",
   "language": "python",
   "name": "python3"
  },
  "language_info": {
   "codemirror_mode": {
    "name": "ipython",
    "version": 3
   },
   "file_extension": ".py",
   "mimetype": "text/x-python",
   "name": "python",
   "nbconvert_exporter": "python",
   "pygments_lexer": "ipython3",
   "version": "3.8.8"
  },
  "toc": {
   "base_numbering": 1,
   "nav_menu": {},
   "number_sections": true,
   "sideBar": true,
   "skip_h1_title": false,
   "title_cell": "Table of Contents",
   "title_sidebar": "Contents",
   "toc_cell": false,
   "toc_position": {},
   "toc_section_display": true,
   "toc_window_display": false
  }
 },
 "nbformat": 4,
 "nbformat_minor": 2
}
